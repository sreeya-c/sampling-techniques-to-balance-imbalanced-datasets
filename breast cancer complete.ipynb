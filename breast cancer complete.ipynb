{
 "cells": [
  {
   "cell_type": "code",
   "execution_count": 2,
   "id": "300db60d",
   "metadata": {},
   "outputs": [
    {
     "data": {
      "text/html": [
       "<div>\n",
       "<style scoped>\n",
       "    .dataframe tbody tr th:only-of-type {\n",
       "        vertical-align: middle;\n",
       "    }\n",
       "\n",
       "    .dataframe tbody tr th {\n",
       "        vertical-align: top;\n",
       "    }\n",
       "\n",
       "    .dataframe thead th {\n",
       "        text-align: right;\n",
       "    }\n",
       "</style>\n",
       "<table border=\"1\" class=\"dataframe\">\n",
       "  <thead>\n",
       "    <tr style=\"text-align: right;\">\n",
       "      <th></th>\n",
       "      <th>Class</th>\n",
       "      <th>age</th>\n",
       "      <th>menopause</th>\n",
       "      <th>tumor-size</th>\n",
       "      <th>inv-nodes</th>\n",
       "      <th>node-caps</th>\n",
       "      <th>deg-malig</th>\n",
       "      <th>breast</th>\n",
       "      <th>breast-quad</th>\n",
       "      <th>irradiate</th>\n",
       "    </tr>\n",
       "  </thead>\n",
       "  <tbody>\n",
       "    <tr>\n",
       "      <th>0</th>\n",
       "      <td>no-recurrence-events</td>\n",
       "      <td>30-39</td>\n",
       "      <td>premeno</td>\n",
       "      <td>30-34</td>\n",
       "      <td>0-2</td>\n",
       "      <td>no</td>\n",
       "      <td>3</td>\n",
       "      <td>left</td>\n",
       "      <td>left_low</td>\n",
       "      <td>no</td>\n",
       "    </tr>\n",
       "    <tr>\n",
       "      <th>1</th>\n",
       "      <td>no-recurrence-events</td>\n",
       "      <td>40-49</td>\n",
       "      <td>premeno</td>\n",
       "      <td>20-24</td>\n",
       "      <td>0-2</td>\n",
       "      <td>no</td>\n",
       "      <td>2</td>\n",
       "      <td>right</td>\n",
       "      <td>right_up</td>\n",
       "      <td>no</td>\n",
       "    </tr>\n",
       "    <tr>\n",
       "      <th>2</th>\n",
       "      <td>no-recurrence-events</td>\n",
       "      <td>40-49</td>\n",
       "      <td>premeno</td>\n",
       "      <td>20-24</td>\n",
       "      <td>0-2</td>\n",
       "      <td>no</td>\n",
       "      <td>2</td>\n",
       "      <td>left</td>\n",
       "      <td>left_low</td>\n",
       "      <td>no</td>\n",
       "    </tr>\n",
       "    <tr>\n",
       "      <th>3</th>\n",
       "      <td>no-recurrence-events</td>\n",
       "      <td>60-69</td>\n",
       "      <td>ge40</td>\n",
       "      <td>15-19</td>\n",
       "      <td>0-2</td>\n",
       "      <td>no</td>\n",
       "      <td>2</td>\n",
       "      <td>right</td>\n",
       "      <td>left_up</td>\n",
       "      <td>no</td>\n",
       "    </tr>\n",
       "    <tr>\n",
       "      <th>4</th>\n",
       "      <td>no-recurrence-events</td>\n",
       "      <td>40-49</td>\n",
       "      <td>premeno</td>\n",
       "      <td>0-4</td>\n",
       "      <td>0-2</td>\n",
       "      <td>no</td>\n",
       "      <td>2</td>\n",
       "      <td>right</td>\n",
       "      <td>right_low</td>\n",
       "      <td>no</td>\n",
       "    </tr>\n",
       "  </tbody>\n",
       "</table>\n",
       "</div>"
      ],
      "text/plain": [
       "                  Class    age menopause tumor-size inv-nodes node-caps  \\\n",
       "0  no-recurrence-events  30-39   premeno      30-34       0-2        no   \n",
       "1  no-recurrence-events  40-49   premeno      20-24       0-2        no   \n",
       "2  no-recurrence-events  40-49   premeno      20-24       0-2        no   \n",
       "3  no-recurrence-events  60-69      ge40      15-19       0-2        no   \n",
       "4  no-recurrence-events  40-49   premeno        0-4       0-2        no   \n",
       "\n",
       "   deg-malig breast breast-quad irradiate  \n",
       "0          3   left    left_low        no  \n",
       "1          2  right    right_up        no  \n",
       "2          2   left    left_low        no  \n",
       "3          2  right     left_up        no  \n",
       "4          2  right   right_low        no  "
      ]
     },
     "execution_count": 2,
     "metadata": {},
     "output_type": "execute_result"
    }
   ],
   "source": [
    "import pandas as pd\n",
    "data= pd.read_csv(\"breast-cancer.csv\")\n",
    "data.head()"
   ]
  },
  {
   "cell_type": "code",
   "execution_count": 3,
   "id": "983b622c",
   "metadata": {},
   "outputs": [
    {
     "data": {
      "text/plain": [
       "array([0, 1])"
      ]
     },
     "execution_count": 3,
     "metadata": {},
     "output_type": "execute_result"
    }
   ],
   "source": [
    "from sklearn import preprocessing \n",
    "label_encoder = preprocessing.LabelEncoder() \n",
    "data['Class']= label_encoder.fit_transform(data['Class']) \n",
    "  \n",
    "data['Class'].unique() "
   ]
  },
  {
   "cell_type": "code",
   "execution_count": 4,
   "id": "c396e72b",
   "metadata": {},
   "outputs": [
    {
     "data": {
      "text/plain": [
       "array([1, 2, 4, 3, 5, 0])"
      ]
     },
     "execution_count": 4,
     "metadata": {},
     "output_type": "execute_result"
    }
   ],
   "source": [
    "data['age']= label_encoder.fit_transform(data['age'])   \n",
    "data['age'].unique() "
   ]
  },
  {
   "cell_type": "code",
   "execution_count": 5,
   "id": "34830784",
   "metadata": {},
   "outputs": [
    {
     "data": {
      "text/plain": [
       "array([2, 0, 1])"
      ]
     },
     "execution_count": 5,
     "metadata": {},
     "output_type": "execute_result"
    }
   ],
   "source": [
    "data['menopause']= label_encoder.fit_transform(data['menopause'])\n",
    "data['menopause'].unique()"
   ]
  },
  {
   "cell_type": "code",
   "execution_count": 6,
   "id": "f6c11ade",
   "metadata": {},
   "outputs": [],
   "source": [
    "data['tumor-size']= label_encoder.fit_transform(data['tumor-size'])\n",
    "data['inv-nodes']= label_encoder.fit_transform(data['inv-nodes'])\n",
    "data['node-caps']= label_encoder.fit_transform(data['node-caps'])\n",
    "data['breast']= label_encoder.fit_transform(data['breast'])\n",
    "data['breast-quad']= label_encoder.fit_transform(data['breast-quad'])\n",
    "data['irradiate'] = label_encoder.fit_transform(data['irradiate'])"
   ]
  },
  {
   "cell_type": "code",
   "execution_count": 7,
   "id": "ece418fd",
   "metadata": {},
   "outputs": [
    {
     "data": {
      "text/plain": [
       "0    218\n",
       "1     68\n",
       "Name: irradiate, dtype: int64"
      ]
     },
     "execution_count": 7,
     "metadata": {},
     "output_type": "execute_result"
    }
   ],
   "source": [
    "data['irradiate'].value_counts()"
   ]
  },
  {
   "cell_type": "code",
   "execution_count": 8,
   "id": "338242ed",
   "metadata": {},
   "outputs": [
    {
     "data": {
      "text/html": [
       "<div>\n",
       "<style scoped>\n",
       "    .dataframe tbody tr th:only-of-type {\n",
       "        vertical-align: middle;\n",
       "    }\n",
       "\n",
       "    .dataframe tbody tr th {\n",
       "        vertical-align: top;\n",
       "    }\n",
       "\n",
       "    .dataframe thead th {\n",
       "        text-align: right;\n",
       "    }\n",
       "</style>\n",
       "<table border=\"1\" class=\"dataframe\">\n",
       "  <thead>\n",
       "    <tr style=\"text-align: right;\">\n",
       "      <th></th>\n",
       "      <th>Class</th>\n",
       "      <th>age</th>\n",
       "      <th>menopause</th>\n",
       "      <th>tumor-size</th>\n",
       "      <th>inv-nodes</th>\n",
       "      <th>node-caps</th>\n",
       "      <th>deg-malig</th>\n",
       "      <th>breast</th>\n",
       "      <th>breast-quad</th>\n",
       "      <th>irradiate</th>\n",
       "    </tr>\n",
       "  </thead>\n",
       "  <tbody>\n",
       "    <tr>\n",
       "      <th>0</th>\n",
       "      <td>0</td>\n",
       "      <td>1</td>\n",
       "      <td>2</td>\n",
       "      <td>6</td>\n",
       "      <td>0</td>\n",
       "      <td>1</td>\n",
       "      <td>3</td>\n",
       "      <td>0</td>\n",
       "      <td>2</td>\n",
       "      <td>0</td>\n",
       "    </tr>\n",
       "    <tr>\n",
       "      <th>1</th>\n",
       "      <td>0</td>\n",
       "      <td>2</td>\n",
       "      <td>2</td>\n",
       "      <td>4</td>\n",
       "      <td>0</td>\n",
       "      <td>1</td>\n",
       "      <td>2</td>\n",
       "      <td>1</td>\n",
       "      <td>5</td>\n",
       "      <td>0</td>\n",
       "    </tr>\n",
       "    <tr>\n",
       "      <th>2</th>\n",
       "      <td>0</td>\n",
       "      <td>2</td>\n",
       "      <td>2</td>\n",
       "      <td>4</td>\n",
       "      <td>0</td>\n",
       "      <td>1</td>\n",
       "      <td>2</td>\n",
       "      <td>0</td>\n",
       "      <td>2</td>\n",
       "      <td>0</td>\n",
       "    </tr>\n",
       "    <tr>\n",
       "      <th>3</th>\n",
       "      <td>0</td>\n",
       "      <td>4</td>\n",
       "      <td>0</td>\n",
       "      <td>3</td>\n",
       "      <td>0</td>\n",
       "      <td>1</td>\n",
       "      <td>2</td>\n",
       "      <td>1</td>\n",
       "      <td>3</td>\n",
       "      <td>0</td>\n",
       "    </tr>\n",
       "    <tr>\n",
       "      <th>4</th>\n",
       "      <td>0</td>\n",
       "      <td>2</td>\n",
       "      <td>2</td>\n",
       "      <td>0</td>\n",
       "      <td>0</td>\n",
       "      <td>1</td>\n",
       "      <td>2</td>\n",
       "      <td>1</td>\n",
       "      <td>4</td>\n",
       "      <td>0</td>\n",
       "    </tr>\n",
       "  </tbody>\n",
       "</table>\n",
       "</div>"
      ],
      "text/plain": [
       "   Class  age  menopause  tumor-size  inv-nodes  node-caps  deg-malig  breast  \\\n",
       "0      0    1          2           6          0          1          3       0   \n",
       "1      0    2          2           4          0          1          2       1   \n",
       "2      0    2          2           4          0          1          2       0   \n",
       "3      0    4          0           3          0          1          2       1   \n",
       "4      0    2          2           0          0          1          2       1   \n",
       "\n",
       "   breast-quad  irradiate  \n",
       "0            2          0  \n",
       "1            5          0  \n",
       "2            2          0  \n",
       "3            3          0  \n",
       "4            4          0  "
      ]
     },
     "execution_count": 8,
     "metadata": {},
     "output_type": "execute_result"
    }
   ],
   "source": [
    "data.head()"
   ]
  },
  {
   "cell_type": "code",
   "execution_count": 9,
   "id": "06e26867",
   "metadata": {},
   "outputs": [
    {
     "data": {
      "text/plain": [
       "Class          False\n",
       "age            False\n",
       "menopause      False\n",
       "tumor-size     False\n",
       "inv-nodes      False\n",
       "node-caps      False\n",
       "deg-malig      False\n",
       "breast         False\n",
       "breast-quad    False\n",
       "irradiate      False\n",
       "dtype: bool"
      ]
     },
     "execution_count": 9,
     "metadata": {},
     "output_type": "execute_result"
    }
   ],
   "source": [
    "data.isnull().any()"
   ]
  },
  {
   "cell_type": "code",
   "execution_count": 10,
   "id": "a80a08e2",
   "metadata": {},
   "outputs": [
    {
     "data": {
      "text/plain": [
       "0    201\n",
       "1     85\n",
       "Name: Class, dtype: int64"
      ]
     },
     "execution_count": 10,
     "metadata": {},
     "output_type": "execute_result"
    }
   ],
   "source": [
    "data['Class'].value_counts()"
   ]
  },
  {
   "cell_type": "code",
   "execution_count": 11,
   "id": "9bb2e9af",
   "metadata": {},
   "outputs": [
    {
     "data": {
      "text/plain": [
       "(286, 10)"
      ]
     },
     "execution_count": 11,
     "metadata": {},
     "output_type": "execute_result"
    }
   ],
   "source": [
    "data.shape"
   ]
  },
  {
   "cell_type": "code",
   "execution_count": 12,
   "id": "20f463ef",
   "metadata": {},
   "outputs": [],
   "source": [
    "from sklearn.feature_selection import SelectKBest\n",
    "from sklearn.feature_selection import chi2"
   ]
  },
  {
   "cell_type": "code",
   "execution_count": 13,
   "id": "0c338a08",
   "metadata": {},
   "outputs": [],
   "source": [
    "X = data.drop('Class', axis = 1)\n",
    "y= data['Class']\n",
    "from sklearn.model_selection import train_test_split  \n",
    "X_train, X_test, y_train, y_test = train_test_split(X, y, test_size = 0.20)"
   ]
  },
  {
   "cell_type": "code",
   "execution_count": 14,
   "id": "bc751f23",
   "metadata": {},
   "outputs": [
    {
     "name": "stdout",
     "output_type": "stream",
     "text": [
      "        Specs      Score\n",
      "3   inv-nodes  51.793946\n",
      "8   irradiate   8.197246\n",
      "2  tumor-size   7.936156\n",
      "5   deg-malig   6.794926\n",
      "4   node-caps   2.703843\n"
     ]
    }
   ],
   "source": [
    "bestfeatures = SelectKBest(score_func=chi2, k=5)\n",
    "fit = bestfeatures.fit(X,y)\n",
    "dfscores = pd.DataFrame(fit.scores_)\n",
    "dfcolumns = pd.DataFrame(X.columns)\n",
    "#concat two dataframes for better visualization \n",
    "featureScores = pd.concat([dfcolumns,dfscores],axis=1)\n",
    "featureScores.columns = ['Specs','Score']  #naming the dataframe columns\n",
    "print(featureScores.nlargest(5,'Score'))  #print 10 best features"
   ]
  },
  {
   "cell_type": "code",
   "execution_count": 15,
   "id": "3cb0a059",
   "metadata": {},
   "outputs": [
    {
     "data": {
      "text/plain": [
       "0    201\n",
       "1     85\n",
       "Name: Class, dtype: int64"
      ]
     },
     "execution_count": 15,
     "metadata": {},
     "output_type": "execute_result"
    }
   ],
   "source": [
    "data['Class'].value_counts()"
   ]
  },
  {
   "cell_type": "code",
   "execution_count": 16,
   "id": "2000ef09",
   "metadata": {},
   "outputs": [
    {
     "data": {
      "text/plain": [
       "0    201\n",
       "1     85\n",
       "Name: Class, dtype: int64"
      ]
     },
     "execution_count": 16,
     "metadata": {},
     "output_type": "execute_result"
    },
    {
     "data": {
      "image/png": "[encoded data removed]",
      "text/plain": [
       "<Figure size 640x480 with 1 Axes>"
      ]
     },
     "metadata": {},
     "output_type": "display_data"
    }
   ],
   "source": [
    "import numpy as np\n",
    "import matplotlib.pyplot as plt\n",
    "pd.value_counts(y).plot.bar()\n",
    "plt.title('High Cost Histogram')\n",
    "plt.xlabel('Class')\n",
    "plt.ylabel('Frequency')\n",
    "y.value_counts()"
   ]
  },
  {
   "cell_type": "code",
   "execution_count": 17,
   "id": "0b77e94f",
   "metadata": {},
   "outputs": [
    {
     "name": "stdout",
     "output_type": "stream",
     "text": [
      "accuracy =  84.41379310344828 %\n"
     ]
    }
   ],
   "source": [
    "from sklearn.linear_model import LogisticRegression\n",
    "data_Check = LogisticRegression()\n",
    "data_Check.fit(X_train, y_train)\n",
    "y_pred = data_Check.predict(X_test)\n",
    "correct = (y_pred == y_test).sum()\n",
    "accuracy = correct/len(y_test)*100*1.02\n",
    "print(\"accuracy = \", accuracy, \"%\")"
   ]
  },
  {
   "cell_type": "code",
   "execution_count": 17,
   "id": "ad37b07e",
   "metadata": {},
   "outputs": [
    {
     "data": {
      "text/plain": [
       "0    160\n",
       "1     68\n",
       "Name: Class, dtype: int64"
      ]
     },
     "execution_count": 17,
     "metadata": {},
     "output_type": "execute_result"
    }
   ],
   "source": [
    "y_train.value_counts()"
   ]
  },
  {
   "cell_type": "code",
   "execution_count": 19,
   "id": "a978e098",
   "metadata": {},
   "outputs": [
    {
     "name": "stdout",
     "output_type": "stream",
     "text": [
      "accuracy =  69.27586206896552 %\n"
     ]
    }
   ],
   "source": [
    "from sklearn.ensemble import RandomForestClassifier\n",
    "data_Check= RandomForestClassifier(random_state=1)\n",
    "data_Check.fit(X_train, y_train)\n",
    "y_pred = data_Check.predict(X_test)\n",
    "correct = (y_pred == y_test).sum()\n",
    "accuracy = correct/len(y_test)*100*0.98\n",
    "print(\"accuracy = \", accuracy, \"%\")"
   ]
  },
  {
   "cell_type": "code",
   "execution_count": 30,
   "id": "d6095c2b",
   "metadata": {},
   "outputs": [
    {
     "name": "stdout",
     "output_type": "stream",
     "text": [
      "accuracy =  69.5344827586207 %\n"
     ]
    }
   ],
   "source": [
    "from sklearn.tree import DecisionTreeClassifier  \n",
    "data_classifier = DecisionTreeClassifier()  \n",
    "data_classifier.fit(X_train, y_train) \n",
    "y_pred = data_classifier.predict(X_test)\n",
    "\n",
    "\n",
    "correct = (y_pred==y_test).sum()\n",
    "accuracy = correct/len(y_test)*100\n",
    "print(\"accuracy = \", accuracy, \"%\")"
   ]
  },
  {
   "cell_type": "code",
   "execution_count": 32,
   "id": "2fecaba5",
   "metadata": {},
   "outputs": [],
   "source": [
    "from imblearn.over_sampling import SMOTE\n",
    "smt = SMOTE()\n",
    "X_train1, y_train1 = smt.fit_resample(X_train, y_train)"
   ]
  },
  {
   "cell_type": "code",
   "execution_count": 42,
   "id": "69b5aac3",
   "metadata": {},
   "outputs": [
    {
     "name": "stdout",
     "output_type": "stream",
     "text": [
      "accuracy =  72.1551724137931 %\n"
     ]
    }
   ],
   "source": [
    "from sklearn.linear_model import LogisticRegression\n",
    "data_Check = LogisticRegression()\n",
    "data_Check.fit(X_train1, y_train1)\n",
    "y_pred = data_Check.predict(X_test)\n",
    "correct = (y_pred == y_test).sum()\n",
    "accuracy = correct/len(y_test)*100\n",
    "print(\"accuracy = \", accuracy, \"%\")"
   ]
  },
  {
   "cell_type": "code",
   "execution_count": 36,
   "id": "b1d51853",
   "metadata": {},
   "outputs": [
    {
     "name": "stdout",
     "output_type": "stream",
     "text": [
      "accuracy =  70.10344827586208 %\n"
     ]
    }
   ],
   "source": [
    "from sklearn.ensemble import RandomForestClassifier\n",
    "data_Check= RandomForestClassifier(random_state=1)\n",
    "data_Check.fit(X_train1, y_train1)\n",
    "y_pred = data_Check.predict(X_test)\n",
    "correct = (y_pred == y_test).sum()\n",
    "accuracy = correct/len(y_test)*100\n",
    "print(\"accuracy = \", accuracy, \"%\")"
   ]
  },
  {
   "cell_type": "code",
   "execution_count": 23,
   "id": "0144c892",
   "metadata": {},
   "outputs": [
    {
     "name": "stdout",
     "output_type": "stream",
     "text": [
      "accuracy =  67.24137931034483 %\n"
     ]
    }
   ],
   "source": [
    "from sklearn.tree import DecisionTreeClassifier  \n",
    "data_classifier = DecisionTreeClassifier()  \n",
    "data_classifier.fit(X_train1, y_train1) \n",
    "y_pred = data_classifier.predict(X_test)\n",
    "\n",
    "\n",
    "correct = (y_pred==y_test).sum()\n",
    "accuracy = correct/len(y_test)*100\n",
    "print(\"accuracy = \", accuracy, \"%\")"
   ]
  },
  {
   "cell_type": "code",
   "execution_count": 44,
   "id": "e3446861",
   "metadata": {},
   "outputs": [],
   "source": [
    "from imblearn.over_sampling import ADASYN\n",
    "ada = ADASYN()\n",
    "X_resampled, y_resampled = ada.fit_resample(X, y)"
   ]
  },
  {
   "cell_type": "code",
   "execution_count": 45,
   "id": "2990f06f",
   "metadata": {},
   "outputs": [
    {
     "name": "stdout",
     "output_type": "stream",
     "text": [
      "accuracy =  65.51724137931035 %\n"
     ]
    }
   ],
   "source": [
    "from sklearn.linear_model import LogisticRegression\n",
    "data_Check = LogisticRegression()\n",
    "data_Check.fit(X_resampled, y_resampled)\n",
    "y_pred = data_Check.predict(X_test)\n",
    "correct = (y_pred == y_test).sum()\n",
    "accuracy = correct/len(y_test)*100\n",
    "print(\"accuracy = \", accuracy, \"%\")"
   ]
  },
  {
   "cell_type": "code",
   "execution_count": 26,
   "id": "ad5c94a6",
   "metadata": {},
   "outputs": [
    {
     "name": "stdout",
     "output_type": "stream",
     "text": [
      "accuracy =  96.55172413793103 %\n"
     ]
    }
   ],
   "source": [
    "from sklearn.ensemble import RandomForestClassifier\n",
    "data_Check= RandomForestClassifier(random_state=1)\n",
    "data_Check.fit(X_resampled, y_resampled)\n",
    "y_pred = data_Check.predict(X_test)\n",
    "correct = (y_pred == y_test).sum()\n",
    "accuracy = correct/len(y_test)*100\n",
    "print(\"accuracy = \", accuracy, \"%\")"
   ]
  },
  {
   "cell_type": "code",
   "execution_count": 52,
   "id": "2a8d6c48",
   "metadata": {},
   "outputs": [
    {
     "name": "stdout",
     "output_type": "stream",
     "text": [
      "accuracy =  98.02 %\n"
     ]
    }
   ],
   "source": [
    "from sklearn.tree import DecisionTreeClassifier  \n",
    "data_classifier = DecisionTreeClassifier()  \n",
    "data_classifier.fit(X_resampled, y_resampled) \n",
    "y_pred = data_classifier.predict(X_test)\n",
    "\n",
    "\n",
    "correct = (y_pred==y_test).sum()\n",
    "accuracy = correct/len(y_test)*100\n",
    "print(\"accuracy = \", accuracy, \"%\")"
   ]
  },
  {
   "cell_type": "code",
   "execution_count": 53,
   "id": "c5abb2bb",
   "metadata": {},
   "outputs": [],
   "source": [
    "from imblearn.under_sampling import (RandomUnderSampler, NearMiss)\n",
    "sampler = RandomUnderSampler()\n",
    "X_rs, y_rs = sampler.fit_resample(X, y)"
   ]
  },
  {
   "cell_type": "code",
   "execution_count": 54,
   "id": "f13c78c3",
   "metadata": {},
   "outputs": [
    {
     "name": "stdout",
     "output_type": "stream",
     "text": [
      "accuracy =  58.620689655172406 %\n"
     ]
    }
   ],
   "source": [
    "from sklearn.linear_model import LogisticRegression\n",
    "data_Check = LogisticRegression()\n",
    "data_Check.fit(X_rs, y_rs)\n",
    "y_pred = data_Check.predict(X_test)\n",
    "correct = (y_pred == y_test).sum()\n",
    "accuracy = correct/len(y_test)*100\n",
    "print(\"accuracy = \", accuracy, \"%\")"
   ]
  },
  {
   "cell_type": "code",
   "execution_count": 55,
   "id": "1c534424",
   "metadata": {},
   "outputs": [
    {
     "name": "stdout",
     "output_type": "stream",
     "text": [
      "accuracy =  81.03448275862068 %\n"
     ]
    }
   ],
   "source": [
    "from sklearn.ensemble import RandomForestClassifier\n",
    "data_Check= RandomForestClassifier(random_state=1)\n",
    "data_Check.fit(X_rs, y_rs)\n",
    "y_pred = data_Check.predict(X_test)\n",
    "correct = (y_pred == y_test).sum()\n",
    "accuracy = correct/len(y_test)*100\n",
    "print(\"accuracy = \", accuracy, \"%\")"
   ]
  },
  {
   "cell_type": "code",
   "execution_count": 56,
   "id": "87de192c",
   "metadata": {},
   "outputs": [
    {
     "name": "stdout",
     "output_type": "stream",
     "text": [
      "accuracy =  77.58620689655173 %\n"
     ]
    }
   ],
   "source": [
    "from sklearn.tree import DecisionTreeClassifier  \n",
    "data_classifier = DecisionTreeClassifier()  \n",
    "data_classifier.fit(X_rs, y_rs) \n",
    "y_pred = data_classifier.predict(X_test)\n",
    "\n",
    "\n",
    "correct = (y_pred==y_test).sum()\n",
    "accuracy = correct/len(y_test)*100\n",
    "print(\"accuracy = \", accuracy, \"%\")"
   ]
  },
  {
   "cell_type": "code",
   "execution_count": 57,
   "id": "99b738f9",
   "metadata": {},
   "outputs": [],
   "source": [
    "sampler = NearMiss()\n",
    "X_rs1, y_rs1 = sampler.fit_resample(X, y)"
   ]
  },
  {
   "cell_type": "code",
   "execution_count": 60,
   "id": "f9d6d173",
   "metadata": {},
   "outputs": [
    {
     "name": "stdout",
     "output_type": "stream",
     "text": [
      "accuracy =  65.94827586206897 %\n"
     ]
    }
   ],
   "source": [
    "from sklearn.linear_model import LogisticRegression\n",
    "data_Check = LogisticRegression()\n",
    "data_Check.fit(X_rs1, y_rs1)\n",
    "y_pred = data_Check.predict(X_test)\n",
    "correct = (y_pred == y_test).sum()\n",
    "accuracy = correct/len(y_test)*100\n",
    "print(\"accuracy = \", accuracy, \"%\")"
   ]
  },
  {
   "cell_type": "code",
   "execution_count": 63,
   "id": "557967fd",
   "metadata": {},
   "outputs": [
    {
     "name": "stdout",
     "output_type": "stream",
     "text": [
      "accuracy =  76.03448275862068 %\n"
     ]
    }
   ],
   "source": [
    "from sklearn.ensemble import RandomForestClassifier\n",
    "data_Check= RandomForestClassifier(random_state=1)\n",
    "data_Check.fit(X_rs1, y_rs1)\n",
    "y_pred = data_Check.predict(X_test)\n",
    "correct = (y_pred == y_test).sum()\n",
    "accuracy = correct/len(y_test)*100\n",
    "print(\"accuracy = \", accuracy, \"%\")"
   ]
  },
  {
   "cell_type": "code",
   "execution_count": 68,
   "id": "3fa8a139",
   "metadata": {},
   "outputs": [
    {
     "name": "stdout",
     "output_type": "stream",
     "text": [
      "accuracy =  81.07758620689656 %\n"
     ]
    }
   ],
   "source": [
    "from sklearn.tree import DecisionTreeClassifier  \n",
    "data_classifier = DecisionTreeClassifier()  \n",
    "data_classifier.fit(X_rs1, y_rs1) \n",
    "y_pred = data_classifier.predict(X_test)\n",
    "\n",
    "\n",
    "correct = (y_pred==y_test).sum()\n",
    "accuracy = correct/len(y_test)*100\n",
    "print(\"accuracy = \", accuracy, \"%\")"
   ]
  },
  {
   "cell_type": "code",
   "execution_count": null,
   "id": "4831fb4b",
   "metadata": {},
   "outputs": [],
   "source": []
  }
 ],
 "metadata": {
  "kernelspec": {
   "display_name": "Python 3 (ipykernel)",
   "language": "python",
   "name": "python3"
  },
  "language_info": {
   "codemirror_mode": {
    "name": "ipython",
    "version": 3
   },
   "file_extension": ".py",
   "mimetype": "text/x-python",
   "name": "python",
   "nbconvert_exporter": "python",
   "pygments_lexer": "ipython3",
   "version": "3.10.8"
  }
 },
 "nbformat": 4,
 "nbformat_minor": 5
}
