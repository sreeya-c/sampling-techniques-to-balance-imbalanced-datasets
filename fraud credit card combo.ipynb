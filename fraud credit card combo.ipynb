{
 "cells": [
  {
   "cell_type": "code",
   "execution_count": 1,
   "id": "9a08a048",
   "metadata": {},
   "outputs": [
    {
     "name": "stdout",
     "output_type": "stream",
     "text": [
      "            Time         V1         V2        V3        V4        V5  \\\n",
      "0            0.0  -1.359807  -0.072781  2.536347  1.378155 -0.338321   \n",
      "1            0.0   1.191857   0.266151  0.166480  0.448154  0.060018   \n",
      "2            1.0  -1.358354  -1.340163  1.773209  0.379780 -0.503198   \n",
      "3            1.0  -0.966272  -0.185226  1.792993 -0.863291 -0.010309   \n",
      "4            2.0  -1.158233   0.877737  1.548718  0.403034 -0.407193   \n",
      "...          ...        ...        ...       ...       ...       ...   \n",
      "284802  172786.0 -11.881118  10.071785 -9.834783 -2.066656 -5.364473   \n",
      "284803  172787.0  -0.732789  -0.055080  2.035030 -0.738589  0.868229   \n",
      "284804  172788.0   1.919565  -0.301254 -3.249640 -0.557828  2.630515   \n",
      "284805  172788.0  -0.240440   0.530483  0.702510  0.689799 -0.377961   \n",
      "284806  172792.0  -0.533413  -0.189733  0.703337 -0.506271 -0.012546   \n",
      "\n",
      "              V6        V7        V8        V9  ...       V21       V22  \\\n",
      "0       0.462388  0.239599  0.098698  0.363787  ... -0.018307  0.277838   \n",
      "1      -0.082361 -0.078803  0.085102 -0.255425  ... -0.225775 -0.638672   \n",
      "2       1.800499  0.791461  0.247676 -1.514654  ...  0.247998  0.771679   \n",
      "3       1.247203  0.237609  0.377436 -1.387024  ... -0.108300  0.005274   \n",
      "4       0.095921  0.592941 -0.270533  0.817739  ... -0.009431  0.798278   \n",
      "...          ...       ...       ...       ...  ...       ...       ...   \n",
      "284802 -2.606837 -4.918215  7.305334  1.914428  ...  0.213454  0.111864   \n",
      "284803  1.058415  0.024330  0.294869  0.584800  ...  0.214205  0.924384   \n",
      "284804  3.031260 -0.296827  0.708417  0.432454  ...  0.232045  0.578229   \n",
      "284805  0.623708 -0.686180  0.679145  0.392087  ...  0.265245  0.800049   \n",
      "284806 -0.649617  1.577006 -0.414650  0.486180  ...  0.261057  0.643078   \n",
      "\n",
      "             V23       V24       V25       V26       V27       V28  Amount  \\\n",
      "0      -0.110474  0.066928  0.128539 -0.189115  0.133558 -0.021053  149.62   \n",
      "1       0.101288 -0.339846  0.167170  0.125895 -0.008983  0.014724    2.69   \n",
      "2       0.909412 -0.689281 -0.327642 -0.139097 -0.055353 -0.059752  378.66   \n",
      "3      -0.190321 -1.175575  0.647376 -0.221929  0.062723  0.061458  123.50   \n",
      "4      -0.137458  0.141267 -0.206010  0.502292  0.219422  0.215153   69.99   \n",
      "...          ...       ...       ...       ...       ...       ...     ...   \n",
      "284802  1.014480 -0.509348  1.436807  0.250034  0.943651  0.823731    0.77   \n",
      "284803  0.012463 -1.016226 -0.606624 -0.395255  0.068472 -0.053527   24.79   \n",
      "284804 -0.037501  0.640134  0.265745 -0.087371  0.004455 -0.026561   67.88   \n",
      "284805 -0.163298  0.123205 -0.569159  0.546668  0.108821  0.104533   10.00   \n",
      "284806  0.376777  0.008797 -0.473649 -0.818267 -0.002415  0.013649  217.00   \n",
      "\n",
      "        Class  \n",
      "0           0  \n",
      "1           0  \n",
      "2           0  \n",
      "3           0  \n",
      "4           0  \n",
      "...       ...  \n",
      "284802      0  \n",
      "284803      0  \n",
      "284804      0  \n",
      "284805      0  \n",
      "284806      0  \n",
      "\n",
      "[284807 rows x 31 columns]\n"
     ]
    }
   ],
   "source": [
    "import pandas as pd\n",
    "data = pd.read_csv(\"creditcard.csv\")\n",
    "print(data)"
   ]
  },
  {
   "cell_type": "code",
   "execution_count": 2,
   "id": "899a657d",
   "metadata": {},
   "outputs": [
    {
     "data": {
      "text/html": [
       "<div>\n",
       "<style scoped>\n",
       "    .dataframe tbody tr th:only-of-type {\n",
       "        vertical-align: middle;\n",
       "    }\n",
       "\n",
       "    .dataframe tbody tr th {\n",
       "        vertical-align: top;\n",
       "    }\n",
       "\n",
       "    .dataframe thead th {\n",
       "        text-align: right;\n",
       "    }\n",
       "</style>\n",
       "<table border=\"1\" class=\"dataframe\">\n",
       "  <thead>\n",
       "    <tr style=\"text-align: right;\">\n",
       "      <th></th>\n",
       "      <th>Time</th>\n",
       "      <th>V1</th>\n",
       "      <th>V2</th>\n",
       "      <th>V3</th>\n",
       "      <th>V4</th>\n",
       "      <th>V5</th>\n",
       "      <th>V6</th>\n",
       "      <th>V7</th>\n",
       "      <th>V8</th>\n",
       "      <th>V9</th>\n",
       "      <th>...</th>\n",
       "      <th>V21</th>\n",
       "      <th>V22</th>\n",
       "      <th>V23</th>\n",
       "      <th>V24</th>\n",
       "      <th>V25</th>\n",
       "      <th>V26</th>\n",
       "      <th>V27</th>\n",
       "      <th>V28</th>\n",
       "      <th>Amount</th>\n",
       "      <th>Class</th>\n",
       "    </tr>\n",
       "  </thead>\n",
       "  <tbody>\n",
       "    <tr>\n",
       "      <th>0</th>\n",
       "      <td>0.0</td>\n",
       "      <td>-1.359807</td>\n",
       "      <td>-0.072781</td>\n",
       "      <td>2.536347</td>\n",
       "      <td>1.378155</td>\n",
       "      <td>-0.338321</td>\n",
       "      <td>0.462388</td>\n",
       "      <td>0.239599</td>\n",
       "      <td>0.098698</td>\n",
       "      <td>0.363787</td>\n",
       "      <td>...</td>\n",
       "      <td>-0.018307</td>\n",
       "      <td>0.277838</td>\n",
       "      <td>-0.110474</td>\n",
       "      <td>0.066928</td>\n",
       "      <td>0.128539</td>\n",
       "      <td>-0.189115</td>\n",
       "      <td>0.133558</td>\n",
       "      <td>-0.021053</td>\n",
       "      <td>149.62</td>\n",
       "      <td>0</td>\n",
       "    </tr>\n",
       "    <tr>\n",
       "      <th>1</th>\n",
       "      <td>0.0</td>\n",
       "      <td>1.191857</td>\n",
       "      <td>0.266151</td>\n",
       "      <td>0.166480</td>\n",
       "      <td>0.448154</td>\n",
       "      <td>0.060018</td>\n",
       "      <td>-0.082361</td>\n",
       "      <td>-0.078803</td>\n",
       "      <td>0.085102</td>\n",
       "      <td>-0.255425</td>\n",
       "      <td>...</td>\n",
       "      <td>-0.225775</td>\n",
       "      <td>-0.638672</td>\n",
       "      <td>0.101288</td>\n",
       "      <td>-0.339846</td>\n",
       "      <td>0.167170</td>\n",
       "      <td>0.125895</td>\n",
       "      <td>-0.008983</td>\n",
       "      <td>0.014724</td>\n",
       "      <td>2.69</td>\n",
       "      <td>0</td>\n",
       "    </tr>\n",
       "    <tr>\n",
       "      <th>2</th>\n",
       "      <td>1.0</td>\n",
       "      <td>-1.358354</td>\n",
       "      <td>-1.340163</td>\n",
       "      <td>1.773209</td>\n",
       "      <td>0.379780</td>\n",
       "      <td>-0.503198</td>\n",
       "      <td>1.800499</td>\n",
       "      <td>0.791461</td>\n",
       "      <td>0.247676</td>\n",
       "      <td>-1.514654</td>\n",
       "      <td>...</td>\n",
       "      <td>0.247998</td>\n",
       "      <td>0.771679</td>\n",
       "      <td>0.909412</td>\n",
       "      <td>-0.689281</td>\n",
       "      <td>-0.327642</td>\n",
       "      <td>-0.139097</td>\n",
       "      <td>-0.055353</td>\n",
       "      <td>-0.059752</td>\n",
       "      <td>378.66</td>\n",
       "      <td>0</td>\n",
       "    </tr>\n",
       "    <tr>\n",
       "      <th>3</th>\n",
       "      <td>1.0</td>\n",
       "      <td>-0.966272</td>\n",
       "      <td>-0.185226</td>\n",
       "      <td>1.792993</td>\n",
       "      <td>-0.863291</td>\n",
       "      <td>-0.010309</td>\n",
       "      <td>1.247203</td>\n",
       "      <td>0.237609</td>\n",
       "      <td>0.377436</td>\n",
       "      <td>-1.387024</td>\n",
       "      <td>...</td>\n",
       "      <td>-0.108300</td>\n",
       "      <td>0.005274</td>\n",
       "      <td>-0.190321</td>\n",
       "      <td>-1.175575</td>\n",
       "      <td>0.647376</td>\n",
       "      <td>-0.221929</td>\n",
       "      <td>0.062723</td>\n",
       "      <td>0.061458</td>\n",
       "      <td>123.50</td>\n",
       "      <td>0</td>\n",
       "    </tr>\n",
       "    <tr>\n",
       "      <th>4</th>\n",
       "      <td>2.0</td>\n",
       "      <td>-1.158233</td>\n",
       "      <td>0.877737</td>\n",
       "      <td>1.548718</td>\n",
       "      <td>0.403034</td>\n",
       "      <td>-0.407193</td>\n",
       "      <td>0.095921</td>\n",
       "      <td>0.592941</td>\n",
       "      <td>-0.270533</td>\n",
       "      <td>0.817739</td>\n",
       "      <td>...</td>\n",
       "      <td>-0.009431</td>\n",
       "      <td>0.798278</td>\n",
       "      <td>-0.137458</td>\n",
       "      <td>0.141267</td>\n",
       "      <td>-0.206010</td>\n",
       "      <td>0.502292</td>\n",
       "      <td>0.219422</td>\n",
       "      <td>0.215153</td>\n",
       "      <td>69.99</td>\n",
       "      <td>0</td>\n",
       "    </tr>\n",
       "  </tbody>\n",
       "</table>\n",
       "<p>5 rows × 31 columns</p>\n",
       "</div>"
      ],
      "text/plain": [
       "   Time        V1        V2        V3        V4        V5        V6        V7  \\\n",
       "0   0.0 -1.359807 -0.072781  2.536347  1.378155 -0.338321  0.462388  0.239599   \n",
       "1   0.0  1.191857  0.266151  0.166480  0.448154  0.060018 -0.082361 -0.078803   \n",
       "2   1.0 -1.358354 -1.340163  1.773209  0.379780 -0.503198  1.800499  0.791461   \n",
       "3   1.0 -0.966272 -0.185226  1.792993 -0.863291 -0.010309  1.247203  0.237609   \n",
       "4   2.0 -1.158233  0.877737  1.548718  0.403034 -0.407193  0.095921  0.592941   \n",
       "\n",
       "         V8        V9  ...       V21       V22       V23       V24       V25  \\\n",
       "0  0.098698  0.363787  ... -0.018307  0.277838 -0.110474  0.066928  0.128539   \n",
       "1  0.085102 -0.255425  ... -0.225775 -0.638672  0.101288 -0.339846  0.167170   \n",
       "2  0.247676 -1.514654  ...  0.247998  0.771679  0.909412 -0.689281 -0.327642   \n",
       "3  0.377436 -1.387024  ... -0.108300  0.005274 -0.190321 -1.175575  0.647376   \n",
       "4 -0.270533  0.817739  ... -0.009431  0.798278 -0.137458  0.141267 -0.206010   \n",
       "\n",
       "        V26       V27       V28  Amount  Class  \n",
       "0 -0.189115  0.133558 -0.021053  149.62      0  \n",
       "1  0.125895 -0.008983  0.014724    2.69      0  \n",
       "2 -0.139097 -0.055353 -0.059752  378.66      0  \n",
       "3 -0.221929  0.062723  0.061458  123.50      0  \n",
       "4  0.502292  0.219422  0.215153   69.99      0  \n",
       "\n",
       "[5 rows x 31 columns]"
      ]
     },
     "execution_count": 2,
     "metadata": {},
     "output_type": "execute_result"
    }
   ],
   "source": [
    "data.head()"
   ]
  },
  {
   "cell_type": "code",
   "execution_count": 3,
   "id": "0b91c614",
   "metadata": {},
   "outputs": [
    {
     "data": {
      "text/plain": [
       "(284807, 31)"
      ]
     },
     "execution_count": 3,
     "metadata": {},
     "output_type": "execute_result"
    }
   ],
   "source": [
    "\n",
    "data.shape"
   ]
  },
  {
   "cell_type": "code",
   "execution_count": 4,
   "id": "b8935bf4",
   "metadata": {},
   "outputs": [
    {
     "data": {
      "text/plain": [
       "0    284315\n",
       "1       492\n",
       "Name: Class, dtype: int64"
      ]
     },
     "execution_count": 4,
     "metadata": {},
     "output_type": "execute_result"
    }
   ],
   "source": [
    "data['Class'].value_counts()"
   ]
  },
  {
   "cell_type": "code",
   "execution_count": 6,
   "id": "b5078e3f",
   "metadata": {},
   "outputs": [],
   "source": [
    "X = data.drop('Class', axis=1)  \n",
    "y = data['Class']"
   ]
  },
  {
   "cell_type": "code",
   "execution_count": 7,
   "id": "5ff33603",
   "metadata": {},
   "outputs": [],
   "source": [
    "from sklearn.model_selection import train_test_split  \n",
    "X_train, X_test, y_train, y_test = train_test_split(X, y, test_size = 0.20)"
   ]
  },
  {
   "cell_type": "code",
   "execution_count": 15,
   "id": "380c060e",
   "metadata": {},
   "outputs": [
    {
     "name": "stdout",
     "output_type": "stream",
     "text": [
      "accuracy =  99.91573329588147 %\n"
     ]
    },
    {
     "name": "stderr",
     "output_type": "stream",
     "text": [
      "C:\\Users\\Vamshi\\AppData\\Local\\Programs\\Python\\Python310\\lib\\site-packages\\sklearn\\linear_model\\_logistic.py:444: ConvergenceWarning: lbfgs failed to converge (status=1):\n",
      "STOP: TOTAL NO. of ITERATIONS REACHED LIMIT.\n",
      "\n",
      "Increase the number of iterations (max_iter) or scale the data as shown in:\n",
      "    https://scikit-learn.org/stable/modules/preprocessing.html\n",
      "Please also refer to the documentation for alternative solver options:\n",
      "    https://scikit-learn.org/stable/modules/linear_model.html#logistic-regression\n",
      "  n_iter_i = _check_optimize_result(\n"
     ]
    }
   ],
   "source": [
    "from sklearn.linear_model import LogisticRegression\n",
    "data_Check = LogisticRegression()\n",
    "data_Check.fit(X_train, y_train)\n",
    "y_pred = data_Check.predict(X_test)\n",
    "correct = (y_pred == y_test).sum()\n",
    "accuracy = correct/len(y_test)*100\n",
    "print(\"accuracy = \", accuracy, \"%\")"
   ]
  },
  {
   "cell_type": "code",
   "execution_count": 16,
   "id": "cd9f2422",
   "metadata": {},
   "outputs": [
    {
     "data": {
      "text/plain": [
       "0    227452\n",
       "1       393\n",
       "Name: Class, dtype: int64"
      ]
     },
     "execution_count": 16,
     "metadata": {},
     "output_type": "execute_result"
    }
   ],
   "source": [
    "y_train.value_counts()\n",
    "\n"
   ]
  },
  {
   "cell_type": "code",
   "execution_count": 17,
   "id": "8cb21850",
   "metadata": {},
   "outputs": [],
   "source": [
    "from imblearn.over_sampling import SMOTE\n",
    "smt = SMOTE()\n",
    "X_train1, y_train1 = smt.fit_resample(X_train, y_train)"
   ]
  },
  {
   "cell_type": "code",
   "execution_count": 18,
   "id": "e2f2ffef",
   "metadata": {},
   "outputs": [
    {
     "data": {
      "text/plain": [
       "array([227452, 227452], dtype=int64)"
      ]
     },
     "execution_count": 18,
     "metadata": {},
     "output_type": "execute_result"
    }
   ],
   "source": [
    "import numpy as np\n",
    "np.bincount(y_train1)"
   ]
  },
  {
   "cell_type": "code",
   "execution_count": 14,
   "id": "b192b017",
   "metadata": {},
   "outputs": [
    {
     "name": "stdout",
     "output_type": "stream",
     "text": [
      "accuracy =  97.8827990590218 %\n"
     ]
    },
    {
     "name": "stderr",
     "output_type": "stream",
     "text": [
      "C:\\Users\\Vamshi\\AppData\\Local\\Programs\\Python\\Python310\\lib\\site-packages\\sklearn\\linear_model\\_logistic.py:444: ConvergenceWarning: lbfgs failed to converge (status=1):\n",
      "STOP: TOTAL NO. of ITERATIONS REACHED LIMIT.\n",
      "\n",
      "Increase the number of iterations (max_iter) or scale the data as shown in:\n",
      "    https://scikit-learn.org/stable/modules/preprocessing.html\n",
      "Please also refer to the documentation for alternative solver options:\n",
      "    https://scikit-learn.org/stable/modules/linear_model.html#logistic-regression\n",
      "  n_iter_i = _check_optimize_result(\n"
     ]
    }
   ],
   "source": [
    "from sklearn.linear_model import LogisticRegression\n",
    "data_Check = LogisticRegression()\n",
    "data_Check.fit(X_train1, y_train1)\n",
    "y_pred = data_Check.predict(X_test)\n",
    "correct = (y_pred == y_test).sum()\n",
    "accuracy = correct/len(y_test)*100\n",
    "print(\"accuracy = \", accuracy, \"%\")"
   ]
  },
  {
   "cell_type": "code",
   "execution_count": 19,
   "id": "7f578e93",
   "metadata": {},
   "outputs": [
    {
     "name": "stdout",
     "output_type": "stream",
     "text": [
      "accuracy =  99.95786664794073 %\n"
     ]
    }
   ],
   "source": [
    "from sklearn.ensemble import RandomForestClassifier\n",
    "data_Check= RandomForestClassifier(random_state=1)\n",
    "data_Check.fit(X_train1, y_train1)\n",
    "y_pred = data_Check.predict(X_test)\n",
    "correct = (y_pred == y_test).sum()\n",
    "accuracy = correct/len(y_test)*100\n",
    "print(\"accuracy = \", accuracy, \"%\")"
   ]
  },
  {
   "cell_type": "code",
   "execution_count": 40,
   "id": "5b0567c5",
   "metadata": {},
   "outputs": [
    {
     "name": "stdout",
     "output_type": "stream",
     "text": [
      "accuracy =  99.96839998595554 %\n"
     ]
    }
   ],
   "source": [
    "from sklearn.tree import DecisionTreeClassifier  \n",
    "data_classifier = DecisionTreeClassifier()  \n",
    "data_classifier.fit(X_train1, y_train1) \n",
    "y_pred = data_classifier.predict(X_test)\n",
    "\n",
    "\n",
    "correct = (y_pred==y_test).sum()\n",
    "accuracy = correct/len(y_test)*100\n",
    "print(\"accuracy = \", accuracy, \"%\")"
   ]
  },
  {
   "cell_type": "code",
   "execution_count": 25,
   "id": "3f736d75",
   "metadata": {},
   "outputs": [],
   "source": [
    "\n",
    "import pandas as pd\n",
    "from sklearn.datasets import make_classification\n",
    "from sklearn.decomposition import PCA\n",
    "\n",
    "\n",
    "from imblearn.over_sampling import ADASYN\n",
    "\n",
    "\n",
    "data = pd.read_csv(\"creditcard.csv\")\n",
    "# Generate the dataset\n",
    "X = data.drop('Class', axis=1)  \n",
    "y = data['Class']\n",
    "from sklearn.model_selection import train_test_split  \n",
    "X_train, X_test, y_train, y_test = train_test_split(X, y, test_size = 0.20)"
   ]
  },
  {
   "cell_type": "code",
   "execution_count": 26,
   "id": "f4be52bc",
   "metadata": {},
   "outputs": [
    {
     "name": "stdout",
     "output_type": "stream",
     "text": [
      "accuracy =  99.90344440153085 %\n"
     ]
    },
    {
     "name": "stderr",
     "output_type": "stream",
     "text": [
      "C:\\Users\\Vamshi\\AppData\\Local\\Programs\\Python\\Python310\\lib\\site-packages\\sklearn\\linear_model\\_logistic.py:444: ConvergenceWarning: lbfgs failed to converge (status=1):\n",
      "STOP: TOTAL NO. of ITERATIONS REACHED LIMIT.\n",
      "\n",
      "Increase the number of iterations (max_iter) or scale the data as shown in:\n",
      "    https://scikit-learn.org/stable/modules/preprocessing.html\n",
      "Please also refer to the documentation for alternative solver options:\n",
      "    https://scikit-learn.org/stable/modules/linear_model.html#logistic-regression\n",
      "  n_iter_i = _check_optimize_result(\n"
     ]
    }
   ],
   "source": [
    "from sklearn.linear_model import LogisticRegression\n",
    "data_Check = LogisticRegression()\n",
    "data_Check.fit(X_train, y_train)\n",
    "y_pred = data_Check.predict(X_test)\n",
    "correct = (y_pred == y_test).sum()\n",
    "accuracy = correct/len(y_test)*100\n",
    "print(\"accuracy = \", accuracy, \"%\")"
   ]
  },
  {
   "cell_type": "code",
   "execution_count": 22,
   "id": "b89dc7b2",
   "metadata": {},
   "outputs": [],
   "source": [
    "# Instanciate a PCA object for the sake of easy visualisation\n",
    "\n",
    "# Apply the random over-sampling\n",
    "ada = ADASYN()\n",
    "X_resampled, y_resampled = ada.fit_resample(X, y)"
   ]
  },
  {
   "cell_type": "code",
   "execution_count": 23,
   "id": "da22b0a6",
   "metadata": {},
   "outputs": [
    {
     "name": "stdout",
     "output_type": "stream",
     "text": [
      "accuracy =  97.92493241108107 %\n"
     ]
    }
   ],
   "source": [
    "import numpy as np\n",
    "np.bincount(y_resampled)\n",
    "\n",
    "from sklearn.linear_model import LogisticRegression\n",
    "data_Check = LogisticRegression()\n",
    "data_Check.fit(X_resampled, y_resampled)\n",
    "y_pred = data_Check.predict(X_test)\n",
    "correct = (y_pred == y_test).sum()\n",
    "accuracy = correct/len(y_test)*100\n",
    "print(\"accuracy = \", accuracy, \"%\")"
   ]
  },
  {
   "cell_type": "code",
   "execution_count": 24,
   "id": "b7f87514",
   "metadata": {},
   "outputs": [
    {
     "name": "stdout",
     "output_type": "stream",
     "text": [
      "accuracy =  99.94557775359011 %\n",
      "hello\n"
     ]
    }
   ],
   "source": [
    "from sklearn.ensemble import RandomForestClassifier\n",
    "data_Check= RandomForestClassifier(random_state=1)\n",
    "data_Check.fit(X_train, y_train)\n",
    "y_pred = data_Check.predict(X_test)\n",
    "correct = (y_pred == y_test).sum()\n",
    "accuracy = correct/len(y_test)*100\n",
    "print(\"accuracy = \", accuracy, \"%\")\n",
    "print(\"hello\")"
   ]
  },
  {
   "cell_type": "code",
   "execution_count": 27,
   "id": "7416f3b0",
   "metadata": {},
   "outputs": [
    {
     "name": "stdout",
     "output_type": "stream",
     "text": [
      "accuracy =  100.0 %\n"
     ]
    }
   ],
   "source": [
    "from sklearn.tree import DecisionTreeClassifier  \n",
    "data_classifier = DecisionTreeClassifier()  \n",
    "data_classifier.fit(X_resampled, y_resampled) \n",
    "y_pred = data_classifier.predict(X_test)\n",
    "\n",
    "\n",
    "correct = (y_pred==y_test).sum()\n",
    "accuracy = correct/len(y_test)*100\n",
    "print(\"accuracy = \", accuracy, \"%\")"
   ]
  },
  {
   "cell_type": "code",
   "execution_count": 28,
   "id": "f7ac0fd0",
   "metadata": {},
   "outputs": [
    {
     "name": "stdout",
     "output_type": "stream",
     "text": [
      "accuracy =  99.93504441557529 %\n"
     ]
    }
   ],
   "source": [
    "from sklearn.tree import DecisionTreeClassifier  \n",
    "data_classifier = DecisionTreeClassifier()  \n",
    "data_classifier.fit(X_train, y_train) \n",
    "y_pred = data_classifier.predict(X_test)\n",
    "\n",
    "\n",
    "correct = (y_pred==y_test).sum()\n",
    "accuracy = correct/len(y_test)*100\n",
    "print(\"accuracy = \", accuracy, \"%\")"
   ]
  },
  {
   "cell_type": "code",
   "execution_count": 29,
   "id": "bbca5d89",
   "metadata": {},
   "outputs": [],
   "source": [
    "from imblearn.under_sampling import (RandomUnderSampler, NearMiss)\n"
   ]
  },
  {
   "cell_type": "code",
   "execution_count": 31,
   "id": "6eafa5d6",
   "metadata": {},
   "outputs": [
    {
     "name": "stdout",
     "output_type": "stream",
     "text": [
      "accuracy =  96.23959832871036 %\n"
     ]
    },
    {
     "name": "stderr",
     "output_type": "stream",
     "text": [
      "C:\\Users\\Vamshi\\AppData\\Local\\Programs\\Python\\Python310\\lib\\site-packages\\sklearn\\linear_model\\_logistic.py:444: ConvergenceWarning: lbfgs failed to converge (status=1):\n",
      "STOP: TOTAL NO. of ITERATIONS REACHED LIMIT.\n",
      "\n",
      "Increase the number of iterations (max_iter) or scale the data as shown in:\n",
      "    https://scikit-learn.org/stable/modules/preprocessing.html\n",
      "Please also refer to the documentation for alternative solver options:\n",
      "    https://scikit-learn.org/stable/modules/linear_model.html#logistic-regression\n",
      "  n_iter_i = _check_optimize_result(\n"
     ]
    }
   ],
   "source": [
    "sampler = RandomUnderSampler()\n",
    "X_rs, y_rs = sampler.fit_resample(X, y)\n",
    "from sklearn.linear_model import LogisticRegression\n",
    "data_Check = LogisticRegression()\n",
    "data_Check.fit(X_rs, y_rs)\n",
    "y_pred = data_Check.predict(X_test)\n",
    "correct = (y_pred == y_test).sum()\n",
    "accuracy = correct/len(y_test)*100\n",
    "print(\"accuracy = \", accuracy, \"%\")"
   ]
  },
  {
   "cell_type": "code",
   "execution_count": 32,
   "id": "356611ba",
   "metadata": {},
   "outputs": [
    {
     "name": "stdout",
     "output_type": "stream",
     "text": [
      "accuracy =  96.79962079983146 %\n"
     ]
    }
   ],
   "source": [
    "from sklearn.ensemble import RandomForestClassifier\n",
    "data_Check= RandomForestClassifier(random_state=1)\n",
    "data_Check.fit(X_rs, y_rs)\n",
    "y_pred = data_Check.predict(X_test)\n",
    "correct = (y_pred == y_test).sum()\n",
    "accuracy = correct/len(y_test)*100\n",
    "print(\"accuracy = \", accuracy, \"%\")"
   ]
  },
  {
   "cell_type": "code",
   "execution_count": 33,
   "id": "41e7f9fb",
   "metadata": {},
   "outputs": [
    {
     "name": "stdout",
     "output_type": "stream",
     "text": [
      "accuracy =  89.95470664653628 %\n"
     ]
    }
   ],
   "source": [
    "from sklearn.tree import DecisionTreeClassifier  \n",
    "data_classifier = DecisionTreeClassifier()  \n",
    "data_classifier.fit(X_rs, y_rs) \n",
    "y_pred = data_classifier.predict(X_test)\n",
    "\n",
    "\n",
    "correct = (y_pred==y_test).sum()\n",
    "accuracy = correct/len(y_test)*100\n",
    "print(\"accuracy = \", accuracy, \"%\")"
   ]
  },
  {
   "cell_type": "code",
   "execution_count": 35,
   "id": "caddb1a5",
   "metadata": {},
   "outputs": [],
   "source": [
    "sampler = NearMiss()\n",
    "X_rs1, y_rs1 = sampler.fit_resample(X, y)"
   ]
  },
  {
   "cell_type": "code",
   "execution_count": 36,
   "id": "1164a4fa",
   "metadata": {},
   "outputs": [
    {
     "name": "stdout",
     "output_type": "stream",
     "text": [
      "accuracy =  76.67567852252378 %\n"
     ]
    },
    {
     "name": "stderr",
     "output_type": "stream",
     "text": [
      "C:\\Users\\Vamshi\\AppData\\Local\\Programs\\Python\\Python310\\lib\\site-packages\\sklearn\\linear_model\\_logistic.py:444: ConvergenceWarning: lbfgs failed to converge (status=1):\n",
      "STOP: TOTAL NO. of ITERATIONS REACHED LIMIT.\n",
      "\n",
      "Increase the number of iterations (max_iter) or scale the data as shown in:\n",
      "    https://scikit-learn.org/stable/modules/preprocessing.html\n",
      "Please also refer to the documentation for alternative solver options:\n",
      "    https://scikit-learn.org/stable/modules/linear_model.html#logistic-regression\n",
      "  n_iter_i = _check_optimize_result(\n"
     ]
    }
   ],
   "source": [
    "from sklearn.linear_model import LogisticRegression\n",
    "data_Check = LogisticRegression()\n",
    "data_Check.fit(X_rs1, y_rs1)\n",
    "y_pred = data_Check.predict(X_test)\n",
    "correct = (y_pred == y_test).sum()\n",
    "accuracy = correct/len(y_test)*100\n",
    "print(\"accuracy = \", accuracy, \"%\")"
   ]
  },
  {
   "cell_type": "code",
   "execution_count": 37,
   "id": "e4de9e14",
   "metadata": {},
   "outputs": [
    {
     "name": "stdout",
     "output_type": "stream",
     "text": [
      "accuracy =  56.980091991151994 %\n"
     ]
    }
   ],
   "source": [
    "from sklearn.ensemble import RandomForestClassifier\n",
    "data_Check= RandomForestClassifier(random_state=1)\n",
    "data_Check.fit(X_rs1, y_rs1)\n",
    "y_pred = data_Check.predict(X_test)\n",
    "correct = (y_pred == y_test).sum()\n",
    "accuracy = correct/len(y_test)*100\n",
    "print(\"accuracy = \", accuracy, \"%\")"
   ]
  },
  {
   "cell_type": "code",
   "execution_count": 38,
   "id": "368f0744",
   "metadata": {},
   "outputs": [
    {
     "name": "stdout",
     "output_type": "stream",
     "text": [
      "accuracy =  36.21537165127629 %\n"
     ]
    }
   ],
   "source": [
    "from sklearn.tree import DecisionTreeClassifier  \n",
    "data_classifier = DecisionTreeClassifier()  \n",
    "data_classifier.fit(X_rs1, y_rs1) \n",
    "y_pred = data_classifier.predict(X_test)\n",
    "\n",
    "\n",
    "correct = (y_pred==y_test).sum()\n",
    "accuracy = correct/len(y_test)*100\n",
    "print(\"accuracy = \", accuracy, \"%\")"
   ]
  },
  {
   "cell_type": "code",
   "execution_count": 2,
   "id": "32e162e5",
   "metadata": {},
   "outputs": [],
   "source": [
    "import pandas as pd\n",
    "\n",
    "from sklearn.ensemble import RandomForestClassifier\n",
    "from sklearn.metrics import roc_auc_score\n",
    "from sklearn.model_selection import train_test_split\n",
    "from sklearn.preprocessing import MinMaxScaler\n",
    "\n",
    "# to correctly set up the cross-validation\n",
    "from imblearn.pipeline import make_pipeline\n",
    "from imblearn.under_sampling import NeighbourhoodCleaningRule\n",
    "from imblearn.over_sampling import ADASYN\n",
    "from imblearn.over_sampling import SMOTE\n"
   ]
  },
  {
   "cell_type": "code",
   "execution_count": 3,
   "id": "f7e4132f",
   "metadata": {},
   "outputs": [
    {
     "data": {
      "text/html": [
       "<div>\n",
       "<style scoped>\n",
       "    .dataframe tbody tr th:only-of-type {\n",
       "        vertical-align: middle;\n",
       "    }\n",
       "\n",
       "    .dataframe tbody tr th {\n",
       "        vertical-align: top;\n",
       "    }\n",
       "\n",
       "    .dataframe thead th {\n",
       "        text-align: right;\n",
       "    }\n",
       "</style>\n",
       "<table border=\"1\" class=\"dataframe\">\n",
       "  <thead>\n",
       "    <tr style=\"text-align: right;\">\n",
       "      <th></th>\n",
       "      <th>Time</th>\n",
       "      <th>V1</th>\n",
       "      <th>V2</th>\n",
       "      <th>V3</th>\n",
       "      <th>V4</th>\n",
       "      <th>V5</th>\n",
       "      <th>V6</th>\n",
       "      <th>V7</th>\n",
       "      <th>V8</th>\n",
       "      <th>V9</th>\n",
       "      <th>...</th>\n",
       "      <th>V21</th>\n",
       "      <th>V22</th>\n",
       "      <th>V23</th>\n",
       "      <th>V24</th>\n",
       "      <th>V25</th>\n",
       "      <th>V26</th>\n",
       "      <th>V27</th>\n",
       "      <th>V28</th>\n",
       "      <th>Amount</th>\n",
       "      <th>Class</th>\n",
       "    </tr>\n",
       "  </thead>\n",
       "  <tbody>\n",
       "    <tr>\n",
       "      <th>183484</th>\n",
       "      <td>125821.0</td>\n",
       "      <td>-0.323334</td>\n",
       "      <td>1.057455</td>\n",
       "      <td>-0.048341</td>\n",
       "      <td>-0.607204</td>\n",
       "      <td>1.259821</td>\n",
       "      <td>-0.091761</td>\n",
       "      <td>1.159101</td>\n",
       "      <td>-0.124335</td>\n",
       "      <td>-0.174640</td>\n",
       "      <td>...</td>\n",
       "      <td>-0.207098</td>\n",
       "      <td>-0.433890</td>\n",
       "      <td>-0.261613</td>\n",
       "      <td>-0.046651</td>\n",
       "      <td>0.211512</td>\n",
       "      <td>0.008297</td>\n",
       "      <td>0.108494</td>\n",
       "      <td>0.161139</td>\n",
       "      <td>40.00</td>\n",
       "      <td>0</td>\n",
       "    </tr>\n",
       "    <tr>\n",
       "      <th>255448</th>\n",
       "      <td>157235.0</td>\n",
       "      <td>-0.349718</td>\n",
       "      <td>0.932619</td>\n",
       "      <td>0.142992</td>\n",
       "      <td>-0.657071</td>\n",
       "      <td>1.169784</td>\n",
       "      <td>-0.733369</td>\n",
       "      <td>1.009985</td>\n",
       "      <td>-0.071069</td>\n",
       "      <td>-0.302083</td>\n",
       "      <td>...</td>\n",
       "      <td>-0.271537</td>\n",
       "      <td>-0.833209</td>\n",
       "      <td>-0.030360</td>\n",
       "      <td>0.490035</td>\n",
       "      <td>-0.404816</td>\n",
       "      <td>0.134350</td>\n",
       "      <td>0.076830</td>\n",
       "      <td>0.175562</td>\n",
       "      <td>1.98</td>\n",
       "      <td>0</td>\n",
       "    </tr>\n",
       "    <tr>\n",
       "      <th>244749</th>\n",
       "      <td>152471.0</td>\n",
       "      <td>-1.614711</td>\n",
       "      <td>-2.406570</td>\n",
       "      <td>0.326194</td>\n",
       "      <td>0.665520</td>\n",
       "      <td>2.369268</td>\n",
       "      <td>-1.775367</td>\n",
       "      <td>-1.139049</td>\n",
       "      <td>0.329904</td>\n",
       "      <td>0.903813</td>\n",
       "      <td>...</td>\n",
       "      <td>0.701399</td>\n",
       "      <td>1.134489</td>\n",
       "      <td>0.965054</td>\n",
       "      <td>0.640981</td>\n",
       "      <td>-1.801998</td>\n",
       "      <td>-1.041114</td>\n",
       "      <td>0.286285</td>\n",
       "      <td>0.437322</td>\n",
       "      <td>96.00</td>\n",
       "      <td>0</td>\n",
       "    </tr>\n",
       "    <tr>\n",
       "      <th>63919</th>\n",
       "      <td>50927.0</td>\n",
       "      <td>-2.477184</td>\n",
       "      <td>0.860613</td>\n",
       "      <td>1.441850</td>\n",
       "      <td>1.051019</td>\n",
       "      <td>-1.856621</td>\n",
       "      <td>2.078384</td>\n",
       "      <td>0.510828</td>\n",
       "      <td>-0.243399</td>\n",
       "      <td>-0.260691</td>\n",
       "      <td>...</td>\n",
       "      <td>0.810408</td>\n",
       "      <td>0.692245</td>\n",
       "      <td>0.150121</td>\n",
       "      <td>-0.260777</td>\n",
       "      <td>0.005183</td>\n",
       "      <td>-0.177847</td>\n",
       "      <td>-0.510060</td>\n",
       "      <td>-0.660533</td>\n",
       "      <td>308.00</td>\n",
       "      <td>0</td>\n",
       "    </tr>\n",
       "    <tr>\n",
       "      <th>11475</th>\n",
       "      <td>19899.0</td>\n",
       "      <td>1.338831</td>\n",
       "      <td>-0.547264</td>\n",
       "      <td>0.737389</td>\n",
       "      <td>-0.212383</td>\n",
       "      <td>-1.110039</td>\n",
       "      <td>-0.525744</td>\n",
       "      <td>-0.801403</td>\n",
       "      <td>-0.063672</td>\n",
       "      <td>0.997276</td>\n",
       "      <td>...</td>\n",
       "      <td>-0.139436</td>\n",
       "      <td>-0.074719</td>\n",
       "      <td>0.067055</td>\n",
       "      <td>0.333122</td>\n",
       "      <td>0.379087</td>\n",
       "      <td>-0.268706</td>\n",
       "      <td>-0.002769</td>\n",
       "      <td>0.003272</td>\n",
       "      <td>5.00</td>\n",
       "      <td>0</td>\n",
       "    </tr>\n",
       "  </tbody>\n",
       "</table>\n",
       "<p>5 rows × 31 columns</p>\n",
       "</div>"
      ],
      "text/plain": [
       "            Time        V1        V2        V3        V4        V5        V6  \\\n",
       "183484  125821.0 -0.323334  1.057455 -0.048341 -0.607204  1.259821 -0.091761   \n",
       "255448  157235.0 -0.349718  0.932619  0.142992 -0.657071  1.169784 -0.733369   \n",
       "244749  152471.0 -1.614711 -2.406570  0.326194  0.665520  2.369268 -1.775367   \n",
       "63919    50927.0 -2.477184  0.860613  1.441850  1.051019 -1.856621  2.078384   \n",
       "11475    19899.0  1.338831 -0.547264  0.737389 -0.212383 -1.110039 -0.525744   \n",
       "\n",
       "              V7        V8        V9  ...       V21       V22       V23  \\\n",
       "183484  1.159101 -0.124335 -0.174640  ... -0.207098 -0.433890 -0.261613   \n",
       "255448  1.009985 -0.071069 -0.302083  ... -0.271537 -0.833209 -0.030360   \n",
       "244749 -1.139049  0.329904  0.903813  ...  0.701399  1.134489  0.965054   \n",
       "63919   0.510828 -0.243399 -0.260691  ...  0.810408  0.692245  0.150121   \n",
       "11475  -0.801403 -0.063672  0.997276  ... -0.139436 -0.074719  0.067055   \n",
       "\n",
       "             V24       V25       V26       V27       V28  Amount  Class  \n",
       "183484 -0.046651  0.211512  0.008297  0.108494  0.161139   40.00      0  \n",
       "255448  0.490035 -0.404816  0.134350  0.076830  0.175562    1.98      0  \n",
       "244749  0.640981 -1.801998 -1.041114  0.286285  0.437322   96.00      0  \n",
       "63919  -0.260777  0.005183 -0.177847 -0.510060 -0.660533  308.00      0  \n",
       "11475   0.333122  0.379087 -0.268706 -0.002769  0.003272    5.00      0  \n",
       "\n",
       "[5 rows x 31 columns]"
      ]
     },
     "execution_count": 3,
     "metadata": {},
     "output_type": "execute_result"
    }
   ],
   "source": [
    "# load data (just some cells to speed up the computations)\n",
    "# we will be using KNN in our cleaning procedure so with the whole \n",
    "# dataset in my laptop it takes quite a while...\n",
    "\n",
    "# you see already some of the limitations of these techniques ;)\n",
    "\n",
    "\n",
    "data = pd.read_csv(\"creditcard.csv\").sample(50000, random_state=0)\n",
    "\n",
    "data.head()"
   ]
  },
  {
   "cell_type": "code",
   "execution_count": 4,
   "id": "a76bc283",
   "metadata": {},
   "outputs": [
    {
     "data": {
      "text/plain": [
       "((35000, 30), (15000, 30))"
      ]
     },
     "execution_count": 4,
     "metadata": {},
     "output_type": "execute_result"
    }
   ],
   "source": [
    "# separate dataset into train and test\n",
    "\n",
    "X_train, X_test, y_train, y_test = train_test_split(\n",
    "    data.drop('Class', axis=1) , \n",
    "    data['Class'], # just the target\n",
    "    test_size=0.3,\n",
    "    random_state=0)\n",
    "\n",
    "X_train.shape, X_test.shape"
   ]
  },
  {
   "cell_type": "code",
   "execution_count": 6,
   "id": "d5f3487d",
   "metadata": {},
   "outputs": [],
   "source": [
    "# adasyn\n",
    "\n",
    "adasyn = ADASYN(\n",
    "        sampling_strategy='auto',  # samples only the minority class\n",
    "        random_state=0,  # for reproducibility\n",
    "        n_neighbors=5,\n",
    "        n_jobs=4,\n",
    ")"
   ]
  },
  {
   "cell_type": "code",
   "execution_count": 7,
   "id": "9a261199",
   "metadata": {},
   "outputs": [],
   "source": [
    "###################\n",
    "## IMPORTANT  \n",
    "##################=\n",
    "\n",
    "# The sampling strategy needs to be set to all, or with\n",
    "# a specific dictionary, because after ADASYN, our\n",
    "# previous minority class is no longer minority!!\n",
    "\n",
    "ncr = NeighbourhoodCleaningRule(\n",
    "    sampling_strategy='all',# undersamples all classes\n",
    "    n_neighbors=3, \n",
    "    kind_sel='mode', \n",
    "    threshold_cleaning=0.1, # the threshold to evaluate a class for cleaning (used only for clearning step)\n",
    ") "
   ]
  },
  {
   "cell_type": "code",
   "execution_count": 8,
   "id": "c0ae18cd",
   "metadata": {},
   "outputs": [],
   "source": [
    "model = make_pipeline(\n",
    "    MinMaxScaler(),\n",
    "    adasyn,\n",
    "    ncr, \n",
    "    RandomForestClassifier(\n",
    "            n_estimators=100, random_state=39, max_depth=3, n_jobs=4\n",
    "        ),\n",
    ")"
   ]
  },
  {
   "cell_type": "code",
   "execution_count": 9,
   "id": "a14fb1a2",
   "metadata": {},
   "outputs": [
    {
     "name": "stderr",
     "output_type": "stream",
     "text": [
      "C:\\Users\\Vamshi\\AppData\\Local\\Programs\\Python\\Python310\\lib\\site-packages\\imblearn\\under_sampling\\_prototype_selection\\_edited_nearest_neighbours.py:158: FutureWarning: Unlike other reduction functions (e.g. `skew`, `kurtosis`), the default behavior of `mode` typically preserves the axis it acts along. In SciPy 1.11.0, this behavior will change: the default value of `keepdims` will become False, the `axis` over which the statistic is taken will be eliminated, and the value None will no longer be accepted. Set `keepdims` to True or False to avoid this warning.\n",
      "  nnhood_label, _ = mode(nnhood_label, axis=1)\n",
      "C:\\Users\\Vamshi\\AppData\\Local\\Programs\\Python\\Python310\\lib\\site-packages\\imblearn\\under_sampling\\_prototype_selection\\_edited_nearest_neighbours.py:158: FutureWarning: Unlike other reduction functions (e.g. `skew`, `kurtosis`), the default behavior of `mode` typically preserves the axis it acts along. In SciPy 1.11.0, this behavior will change: the default value of `keepdims` will become False, the `axis` over which the statistic is taken will be eliminated, and the value None will no longer be accepted. Set `keepdims` to True or False to avoid this warning.\n",
      "  nnhood_label, _ = mode(nnhood_label, axis=1)\n",
      "C:\\Users\\Vamshi\\AppData\\Local\\Programs\\Python\\Python310\\lib\\site-packages\\imblearn\\under_sampling\\_prototype_selection\\_neighbourhood_cleaning_rule.py:185: FutureWarning: Unlike other reduction functions (e.g. `skew`, `kurtosis`), the default behavior of `mode` typically preserves the axis it acts along. In SciPy 1.11.0, this behavior will change: the default value of `keepdims` will become False, the `axis` over which the statistic is taken will be eliminated, and the value None will no longer be accepted. Set `keepdims` to True or False to avoid this warning.\n",
      "  nnhood_label_majority, _ = mode(nnhood_label, axis=1)\n"
     ]
    },
    {
     "data": {
      "text/html": [
       "<style>#sk-container-id-1 {color: black;background-color: white;}#sk-container-id-1 pre{padding: 0;}#sk-container-id-1 div.sk-toggleable {background-color: white;}#sk-container-id-1 label.sk-toggleable__label {cursor: pointer;display: block;width: 100%;margin-bottom: 0;padding: 0.3em;box-sizing: border-box;text-align: center;}#sk-container-id-1 label.sk-toggleable__label-arrow:before {content: \"▸\";float: left;margin-right: 0.25em;color: #696969;}#sk-container-id-1 label.sk-toggleable__label-arrow:hover:before {color: black;}#sk-container-id-1 div.sk-estimator:hover label.sk-toggleable__label-arrow:before {color: black;}#sk-container-id-1 div.sk-toggleable__content {max-height: 0;max-width: 0;overflow: hidden;text-align: left;background-color: #f0f8ff;}#sk-container-id-1 div.sk-toggleable__content pre {margin: 0.2em;color: black;border-radius: 0.25em;background-color: #f0f8ff;}#sk-container-id-1 input.sk-toggleable__control:checked~div.sk-toggleable__content {max-height: 200px;max-width: 100%;overflow: auto;}#sk-container-id-1 input.sk-toggleable__control:checked~label.sk-toggleable__label-arrow:before {content: \"▾\";}#sk-container-id-1 div.sk-estimator input.sk-toggleable__control:checked~label.sk-toggleable__label {background-color: #d4ebff;}#sk-container-id-1 div.sk-label input.sk-toggleable__control:checked~label.sk-toggleable__label {background-color: #d4ebff;}#sk-container-id-1 input.sk-hidden--visually {border: 0;clip: rect(1px 1px 1px 1px);clip: rect(1px, 1px, 1px, 1px);height: 1px;margin: -1px;overflow: hidden;padding: 0;position: absolute;width: 1px;}#sk-container-id-1 div.sk-estimator {font-family: monospace;background-color: #f0f8ff;border: 1px dotted black;border-radius: 0.25em;box-sizing: border-box;margin-bottom: 0.5em;}#sk-container-id-1 div.sk-estimator:hover {background-color: #d4ebff;}#sk-container-id-1 div.sk-parallel-item::after {content: \"\";width: 100%;border-bottom: 1px solid gray;flex-grow: 1;}#sk-container-id-1 div.sk-label:hover label.sk-toggleable__label {background-color: #d4ebff;}#sk-container-id-1 div.sk-serial::before {content: \"\";position: absolute;border-left: 1px solid gray;box-sizing: border-box;top: 0;bottom: 0;left: 50%;z-index: 0;}#sk-container-id-1 div.sk-serial {display: flex;flex-direction: column;align-items: center;background-color: white;padding-right: 0.2em;padding-left: 0.2em;position: relative;}#sk-container-id-1 div.sk-item {position: relative;z-index: 1;}#sk-container-id-1 div.sk-parallel {display: flex;align-items: stretch;justify-content: center;background-color: white;position: relative;}#sk-container-id-1 div.sk-item::before, #sk-container-id-1 div.sk-parallel-item::before {content: \"\";position: absolute;border-left: 1px solid gray;box-sizing: border-box;top: 0;bottom: 0;left: 50%;z-index: -1;}#sk-container-id-1 div.sk-parallel-item {display: flex;flex-direction: column;z-index: 1;position: relative;background-color: white;}#sk-container-id-1 div.sk-parallel-item:first-child::after {align-self: flex-end;width: 50%;}#sk-container-id-1 div.sk-parallel-item:last-child::after {align-self: flex-start;width: 50%;}#sk-container-id-1 div.sk-parallel-item:only-child::after {width: 0;}#sk-container-id-1 div.sk-dashed-wrapped {border: 1px dashed gray;margin: 0 0.4em 0.5em 0.4em;box-sizing: border-box;padding-bottom: 0.4em;background-color: white;}#sk-container-id-1 div.sk-label label {font-family: monospace;font-weight: bold;display: inline-block;line-height: 1.2em;}#sk-container-id-1 div.sk-label-container {text-align: center;}#sk-container-id-1 div.sk-container {/* jupyter's `normalize.less` sets `[hidden] { display: none; }` but bootstrap.min.css set `[hidden] { display: none !important; }` so we also need the `!important` here to be able to override the default hidden behavior on the sphinx rendered scikit-learn.org. See: https://github.com/scikit-learn/scikit-learn/issues/21755 */display: inline-block !important;position: relative;}#sk-container-id-1 div.sk-text-repr-fallback {display: none;}</style><div id=\"sk-container-id-1\" class=\"sk-top-container\"><div class=\"sk-text-repr-fallback\"><pre>Pipeline(steps=[(&#x27;minmaxscaler&#x27;, MinMaxScaler()),\n",
       "                (&#x27;adasyn&#x27;, ADASYN(n_jobs=4, random_state=0)),\n",
       "                (&#x27;neighbourhoodcleaningrule&#x27;,\n",
       "                 NeighbourhoodCleaningRule(kind_sel=&#x27;mode&#x27;,\n",
       "                                           sampling_strategy=&#x27;all&#x27;,\n",
       "                                           threshold_cleaning=0.1)),\n",
       "                (&#x27;randomforestclassifier&#x27;,\n",
       "                 RandomForestClassifier(max_depth=3, n_jobs=4,\n",
       "                                        random_state=39))])</pre><b>In a Jupyter environment, please rerun this cell to show the HTML representation or trust the notebook. <br />On GitHub, the HTML representation is unable to render, please try loading this page with nbviewer.org.</b></div><div class=\"sk-container\" hidden><div class=\"sk-item sk-dashed-wrapped\"><div class=\"sk-label-container\"><div class=\"sk-label sk-toggleable\"><input class=\"sk-toggleable__control sk-hidden--visually\" id=\"sk-estimator-id-1\" type=\"checkbox\" ><label for=\"sk-estimator-id-1\" class=\"sk-toggleable__label sk-toggleable__label-arrow\">Pipeline</label><div class=\"sk-toggleable__content\"><pre>Pipeline(steps=[(&#x27;minmaxscaler&#x27;, MinMaxScaler()),\n",
       "                (&#x27;adasyn&#x27;, ADASYN(n_jobs=4, random_state=0)),\n",
       "                (&#x27;neighbourhoodcleaningrule&#x27;,\n",
       "                 NeighbourhoodCleaningRule(kind_sel=&#x27;mode&#x27;,\n",
       "                                           sampling_strategy=&#x27;all&#x27;,\n",
       "                                           threshold_cleaning=0.1)),\n",
       "                (&#x27;randomforestclassifier&#x27;,\n",
       "                 RandomForestClassifier(max_depth=3, n_jobs=4,\n",
       "                                        random_state=39))])</pre></div></div></div><div class=\"sk-serial\"><div class=\"sk-item\"><div class=\"sk-estimator sk-toggleable\"><input class=\"sk-toggleable__control sk-hidden--visually\" id=\"sk-estimator-id-2\" type=\"checkbox\" ><label for=\"sk-estimator-id-2\" class=\"sk-toggleable__label sk-toggleable__label-arrow\">MinMaxScaler</label><div class=\"sk-toggleable__content\"><pre>MinMaxScaler()</pre></div></div></div><div class=\"sk-item\"><div class=\"sk-estimator sk-toggleable\"><input class=\"sk-toggleable__control sk-hidden--visually\" id=\"sk-estimator-id-3\" type=\"checkbox\" ><label for=\"sk-estimator-id-3\" class=\"sk-toggleable__label sk-toggleable__label-arrow\">ADASYN</label><div class=\"sk-toggleable__content\"><pre>ADASYN(n_jobs=4, random_state=0)</pre></div></div></div><div class=\"sk-item\"><div class=\"sk-estimator sk-toggleable\"><input class=\"sk-toggleable__control sk-hidden--visually\" id=\"sk-estimator-id-4\" type=\"checkbox\" ><label for=\"sk-estimator-id-4\" class=\"sk-toggleable__label sk-toggleable__label-arrow\">NeighbourhoodCleaningRule</label><div class=\"sk-toggleable__content\"><pre>NeighbourhoodCleaningRule(kind_sel=&#x27;mode&#x27;, sampling_strategy=&#x27;all&#x27;,\n",
       "                          threshold_cleaning=0.1)</pre></div></div></div><div class=\"sk-item\"><div class=\"sk-estimator sk-toggleable\"><input class=\"sk-toggleable__control sk-hidden--visually\" id=\"sk-estimator-id-5\" type=\"checkbox\" ><label for=\"sk-estimator-id-5\" class=\"sk-toggleable__label sk-toggleable__label-arrow\">RandomForestClassifier</label><div class=\"sk-toggleable__content\"><pre>RandomForestClassifier(max_depth=3, n_jobs=4, random_state=39)</pre></div></div></div></div></div></div></div>"
      ],
      "text/plain": [
       "Pipeline(steps=[('minmaxscaler', MinMaxScaler()),\n",
       "                ('adasyn', ADASYN(n_jobs=4, random_state=0)),\n",
       "                ('neighbourhoodcleaningrule',\n",
       "                 NeighbourhoodCleaningRule(kind_sel='mode',\n",
       "                                           sampling_strategy='all',\n",
       "                                           threshold_cleaning=0.1)),\n",
       "                ('randomforestclassifier',\n",
       "                 RandomForestClassifier(max_depth=3, n_jobs=4,\n",
       "                                        random_state=39))])"
      ]
     },
     "execution_count": 9,
     "metadata": {},
     "output_type": "execute_result"
    }
   ],
   "source": [
    "model.fit(X_train, y_train)"
   ]
  },
  {
   "cell_type": "code",
   "execution_count": 10,
   "id": "2e2e04dd",
   "metadata": {},
   "outputs": [],
   "source": [
    "pred_train = model.predict_proba(X_train)[:,1]\n",
    "pred_test = model.predict_proba(X_test)[:,1]"
   ]
  },
  {
   "cell_type": "code",
   "execution_count": 11,
   "id": "50f352fb",
   "metadata": {},
   "outputs": [
    {
     "name": "stdout",
     "output_type": "stream",
     "text": [
      "Train roc-auc: 0.9981872590065869\n"
     ]
    }
   ],
   "source": [
    "print('Train roc-auc: {}'.format(roc_auc_score(y_train, pred_train)))\n"
   ]
  },
  {
   "cell_type": "code",
   "execution_count": 12,
   "id": "95d872ce",
   "metadata": {},
   "outputs": [
    {
     "name": "stdout",
     "output_type": "stream",
     "text": [
      "Test roc-auc: 0.9914903697224804\n"
     ]
    }
   ],
   "source": [
    "print('Test roc-auc: {}'.format(roc_auc_score(y_test, pred_test)))\n"
   ]
  },
  {
   "cell_type": "code",
   "execution_count": null,
   "id": "7518646e",
   "metadata": {},
   "outputs": [],
   "source": []
  }
 ],
 "metadata": {
  "kernelspec": {
   "display_name": "Python 3 (ipykernel)",
   "language": "python",
   "name": "python3"
  },
  "language_info": {
   "codemirror_mode": {
    "name": "ipython",
    "version": 3
   },
   "file_extension": ".py",
   "mimetype": "text/x-python",
   "name": "python",
   "nbconvert_exporter": "python",
   "pygments_lexer": "ipython3",
   "version": "3.10.8"
  }
 },
 "nbformat": 4,
 "nbformat_minor": 5
}
