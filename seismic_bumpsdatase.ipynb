{
  "nbformat": 4,
  "nbformat_minor": 0,
  "metadata": {
    "colab": {
      "provenance": []
    },
    "kernelspec": {
      "name": "python3",
      "display_name": "Python 3"
    },
    "language_info": {
      "name": "python"
    }
  },
  "cells": [
    {
      "cell_type": "code",
      "source": [
        "#SEISMIC BUMPS\n",
        "!pip install imblearn"
      ],
      "metadata": {
        "colab": {
          "base_uri": "https://localhost:8080/"
        },
        "id": "6dyN2Pe6FIU-",
        "outputId": "92fc1a49-52f1-4a7b-81fb-ac536fb34cff"
      },
      "execution_count": null,
      "outputs": [
        {
          "output_type": "stream",
          "name": "stdout",
          "text": [
            "Looking in indexes: https://pypi.org/simple, https://us-python.pkg.dev/colab-wheels/public/simple/\n",
            "Collecting imblearn\n",
            "  Downloading imblearn-0.0-py2.py3-none-any.whl (1.9 kB)\n",
            "Requirement already satisfied: imbalanced-learn in /usr/local/lib/python3.9/dist-packages (from imblearn) (0.10.1)\n",
            "Requirement already satisfied: numpy>=1.17.3 in /usr/local/lib/python3.9/dist-packages (from imbalanced-learn->imblearn) (1.22.4)\n",
            "Requirement already satisfied: joblib>=1.1.1 in /usr/local/lib/python3.9/dist-packages (from imbalanced-learn->imblearn) (1.1.1)\n",
            "Requirement already satisfied: scipy>=1.3.2 in /usr/local/lib/python3.9/dist-packages (from imbalanced-learn->imblearn) (1.10.1)\n",
            "Requirement already satisfied: threadpoolctl>=2.0.0 in /usr/local/lib/python3.9/dist-packages (from imbalanced-learn->imblearn) (3.1.0)\n",
            "Requirement already satisfied: scikit-learn>=1.0.2 in /usr/local/lib/python3.9/dist-packages (from imbalanced-learn->imblearn) (1.2.2)\n",
            "Installing collected packages: imblearn\n",
            "Successfully installed imblearn-0.0\n"
          ]
        }
      ]
    },
    {
      "cell_type": "code",
      "execution_count": null,
      "metadata": {
        "colab": {
          "base_uri": "https://localhost:8080/",
          "height": 270
        },
        "id": "SCd0sgal_s_w",
        "outputId": "e7274315-b776-41a8-e4a1-e2208d980039"
      },
      "outputs": [
        {
          "output_type": "execute_result",
          "data": {
            "text/plain": [
              "   id seismic seismoacoustic shift  genergy  gpuls  gdenergy  gdpuls ghazard  \\\n",
              "0   1       a              a     N    15180     48       -72     -72       a   \n",
              "1   2       a              a     N    14720     33       -70     -79       a   \n",
              "2   3       a              a     N     8050     30       -81     -78       a   \n",
              "3   4       a              a     N    28820    171       -23      40       a   \n",
              "4   5       a              a     N    12640     57       -63     -52       a   \n",
              "\n",
              "   nbumps  nbumps2  nbumps3  nbumps4  nbumps5  nbumps6  nbumps7  nbumps89  \\\n",
              "0       0        0        0        0        0        0        0         0   \n",
              "1       1        0        1        0        0        0        0         0   \n",
              "2       0        0        0        0        0        0        0         0   \n",
              "3       1        0        1        0        0        0        0         0   \n",
              "4       0        0        0        0        0        0        0         0   \n",
              "\n",
              "   energy  maxenergy  class  \n",
              "0       0          0      0  \n",
              "1    2000       2000      0  \n",
              "2       0          0      0  \n",
              "3    3000       3000      0  \n",
              "4       0          0      0  "
            ],
            "text/html": [
              "\n",
              "  <div id=\"df-3101a75b-78ee-422f-aab3-db917a128007\">\n",
              "    <div class=\"colab-df-container\">\n",
              "      <div>\n",
              "<style scoped>\n",
              "    .dataframe tbody tr th:only-of-type {\n",
              "        vertical-align: middle;\n",
              "    }\n",
              "\n",
              "    .dataframe tbody tr th {\n",
              "        vertical-align: top;\n",
              "    }\n",
              "\n",
              "    .dataframe thead th {\n",
              "        text-align: right;\n",
              "    }\n",
              "</style>\n",
              "<table border=\"1\" class=\"dataframe\">\n",
              "  <thead>\n",
              "    <tr style=\"text-align: right;\">\n",
              "      <th></th>\n",
              "      <th>id</th>\n",
              "      <th>seismic</th>\n",
              "      <th>seismoacoustic</th>\n",
              "      <th>shift</th>\n",
              "      <th>genergy</th>\n",
              "      <th>gpuls</th>\n",
              "      <th>gdenergy</th>\n",
              "      <th>gdpuls</th>\n",
              "      <th>ghazard</th>\n",
              "      <th>nbumps</th>\n",
              "      <th>nbumps2</th>\n",
              "      <th>nbumps3</th>\n",
              "      <th>nbumps4</th>\n",
              "      <th>nbumps5</th>\n",
              "      <th>nbumps6</th>\n",
              "      <th>nbumps7</th>\n",
              "      <th>nbumps89</th>\n",
              "      <th>energy</th>\n",
              "      <th>maxenergy</th>\n",
              "      <th>class</th>\n",
              "    </tr>\n",
              "  </thead>\n",
              "  <tbody>\n",
              "    <tr>\n",
              "      <th>0</th>\n",
              "      <td>1</td>\n",
              "      <td>a</td>\n",
              "      <td>a</td>\n",
              "      <td>N</td>\n",
              "      <td>15180</td>\n",
              "      <td>48</td>\n",
              "      <td>-72</td>\n",
              "      <td>-72</td>\n",
              "      <td>a</td>\n",
              "      <td>0</td>\n",
              "      <td>0</td>\n",
              "      <td>0</td>\n",
              "      <td>0</td>\n",
              "      <td>0</td>\n",
              "      <td>0</td>\n",
              "      <td>0</td>\n",
              "      <td>0</td>\n",
              "      <td>0</td>\n",
              "      <td>0</td>\n",
              "      <td>0</td>\n",
              "    </tr>\n",
              "    <tr>\n",
              "      <th>1</th>\n",
              "      <td>2</td>\n",
              "      <td>a</td>\n",
              "      <td>a</td>\n",
              "      <td>N</td>\n",
              "      <td>14720</td>\n",
              "      <td>33</td>\n",
              "      <td>-70</td>\n",
              "      <td>-79</td>\n",
              "      <td>a</td>\n",
              "      <td>1</td>\n",
              "      <td>0</td>\n",
              "      <td>1</td>\n",
              "      <td>0</td>\n",
              "      <td>0</td>\n",
              "      <td>0</td>\n",
              "      <td>0</td>\n",
              "      <td>0</td>\n",
              "      <td>2000</td>\n",
              "      <td>2000</td>\n",
              "      <td>0</td>\n",
              "    </tr>\n",
              "    <tr>\n",
              "      <th>2</th>\n",
              "      <td>3</td>\n",
              "      <td>a</td>\n",
              "      <td>a</td>\n",
              "      <td>N</td>\n",
              "      <td>8050</td>\n",
              "      <td>30</td>\n",
              "      <td>-81</td>\n",
              "      <td>-78</td>\n",
              "      <td>a</td>\n",
              "      <td>0</td>\n",
              "      <td>0</td>\n",
              "      <td>0</td>\n",
              "      <td>0</td>\n",
              "      <td>0</td>\n",
              "      <td>0</td>\n",
              "      <td>0</td>\n",
              "      <td>0</td>\n",
              "      <td>0</td>\n",
              "      <td>0</td>\n",
              "      <td>0</td>\n",
              "    </tr>\n",
              "    <tr>\n",
              "      <th>3</th>\n",
              "      <td>4</td>\n",
              "      <td>a</td>\n",
              "      <td>a</td>\n",
              "      <td>N</td>\n",
              "      <td>28820</td>\n",
              "      <td>171</td>\n",
              "      <td>-23</td>\n",
              "      <td>40</td>\n",
              "      <td>a</td>\n",
              "      <td>1</td>\n",
              "      <td>0</td>\n",
              "      <td>1</td>\n",
              "      <td>0</td>\n",
              "      <td>0</td>\n",
              "      <td>0</td>\n",
              "      <td>0</td>\n",
              "      <td>0</td>\n",
              "      <td>3000</td>\n",
              "      <td>3000</td>\n",
              "      <td>0</td>\n",
              "    </tr>\n",
              "    <tr>\n",
              "      <th>4</th>\n",
              "      <td>5</td>\n",
              "      <td>a</td>\n",
              "      <td>a</td>\n",
              "      <td>N</td>\n",
              "      <td>12640</td>\n",
              "      <td>57</td>\n",
              "      <td>-63</td>\n",
              "      <td>-52</td>\n",
              "      <td>a</td>\n",
              "      <td>0</td>\n",
              "      <td>0</td>\n",
              "      <td>0</td>\n",
              "      <td>0</td>\n",
              "      <td>0</td>\n",
              "      <td>0</td>\n",
              "      <td>0</td>\n",
              "      <td>0</td>\n",
              "      <td>0</td>\n",
              "      <td>0</td>\n",
              "      <td>0</td>\n",
              "    </tr>\n",
              "  </tbody>\n",
              "</table>\n",
              "</div>\n",
              "      <button class=\"colab-df-convert\" onclick=\"convertToInteractive('df-3101a75b-78ee-422f-aab3-db917a128007')\"\n",
              "              title=\"Convert this dataframe to an interactive table.\"\n",
              "              style=\"display:none;\">\n",
              "        \n",
              "  <svg xmlns=\"http://www.w3.org/2000/svg\" height=\"24px\"viewBox=\"0 0 24 24\"\n",
              "       width=\"24px\">\n",
              "    <path d=\"M0 0h24v24H0V0z\" fill=\"none\"/>\n",
              "    <path d=\"M18.56 5.44l.94 2.06.94-2.06 2.06-.94-2.06-.94-.94-2.06-.94 2.06-2.06.94zm-11 1L8.5 8.5l.94-2.06 2.06-.94-2.06-.94L8.5 2.5l-.94 2.06-2.06.94zm10 10l.94 2.06.94-2.06 2.06-.94-2.06-.94-.94-2.06-.94 2.06-2.06.94z\"/><path d=\"M17.41 7.96l-1.37-1.37c-.4-.4-.92-.59-1.43-.59-.52 0-1.04.2-1.43.59L10.3 9.45l-7.72 7.72c-.78.78-.78 2.05 0 2.83L4 21.41c.39.39.9.59 1.41.59.51 0 1.02-.2 1.41-.59l7.78-7.78 2.81-2.81c.8-.78.8-2.07 0-2.86zM5.41 20L4 18.59l7.72-7.72 1.47 1.35L5.41 20z\"/>\n",
              "  </svg>\n",
              "      </button>\n",
              "      \n",
              "  <style>\n",
              "    .colab-df-container {\n",
              "      display:flex;\n",
              "      flex-wrap:wrap;\n",
              "      gap: 12px;\n",
              "    }\n",
              "\n",
              "    .colab-df-convert {\n",
              "      background-color: #E8F0FE;\n",
              "      border: none;\n",
              "      border-radius: 50%;\n",
              "      cursor: pointer;\n",
              "      display: none;\n",
              "      fill: #1967D2;\n",
              "      height: 32px;\n",
              "      padding: 0 0 0 0;\n",
              "      width: 32px;\n",
              "    }\n",
              "\n",
              "    .colab-df-convert:hover {\n",
              "      background-color: #E2EBFA;\n",
              "      box-shadow: 0px 1px 2px rgba(60, 64, 67, 0.3), 0px 1px 3px 1px rgba(60, 64, 67, 0.15);\n",
              "      fill: #174EA6;\n",
              "    }\n",
              "\n",
              "    [theme=dark] .colab-df-convert {\n",
              "      background-color: #3B4455;\n",
              "      fill: #D2E3FC;\n",
              "    }\n",
              "\n",
              "    [theme=dark] .colab-df-convert:hover {\n",
              "      background-color: #434B5C;\n",
              "      box-shadow: 0px 1px 3px 1px rgba(0, 0, 0, 0.15);\n",
              "      filter: drop-shadow(0px 1px 2px rgba(0, 0, 0, 0.3));\n",
              "      fill: #FFFFFF;\n",
              "    }\n",
              "  </style>\n",
              "\n",
              "      <script>\n",
              "        const buttonEl =\n",
              "          document.querySelector('#df-3101a75b-78ee-422f-aab3-db917a128007 button.colab-df-convert');\n",
              "        buttonEl.style.display =\n",
              "          google.colab.kernel.accessAllowed ? 'block' : 'none';\n",
              "\n",
              "        async function convertToInteractive(key) {\n",
              "          const element = document.querySelector('#df-3101a75b-78ee-422f-aab3-db917a128007');\n",
              "          const dataTable =\n",
              "            await google.colab.kernel.invokeFunction('convertToInteractive',\n",
              "                                                     [key], {});\n",
              "          if (!dataTable) return;\n",
              "\n",
              "          const docLinkHtml = 'Like what you see? Visit the ' +\n",
              "            '<a target=\"_blank\" href=https://colab.research.google.com/notebooks/data_table.ipynb>data table notebook</a>'\n",
              "            + ' to learn more about interactive tables.';\n",
              "          element.innerHTML = '';\n",
              "          dataTable['output_type'] = 'display_data';\n",
              "          await google.colab.output.renderOutput(dataTable, element);\n",
              "          const docLink = document.createElement('div');\n",
              "          docLink.innerHTML = docLinkHtml;\n",
              "          element.appendChild(docLink);\n",
              "        }\n",
              "      </script>\n",
              "    </div>\n",
              "  </div>\n",
              "  "
            ]
          },
          "metadata": {},
          "execution_count": 39
        }
      ],
      "source": [
        "import pandas as pd\n",
        "import numpy as np\n",
        "data = pd.read_csv(\"seismic-bump.csv\")\n",
        "data.head()"
      ]
    },
    {
      "cell_type": "code",
      "source": [
        "data.shape"
      ],
      "metadata": {
        "colab": {
          "base_uri": "https://localhost:8080/"
        },
        "id": "3SMcujqfBssb",
        "outputId": "087b90c7-10dc-4fdb-dc66-82f030ef088f"
      },
      "execution_count": null,
      "outputs": [
        {
          "output_type": "execute_result",
          "data": {
            "text/plain": [
              "(2584, 20)"
            ]
          },
          "metadata": {},
          "execution_count": 40
        }
      ]
    },
    {
      "cell_type": "code",
      "source": [
        "data['class'].value_counts()"
      ],
      "metadata": {
        "id": "rwX1iAp5hiJJ",
        "outputId": "172df25f-643c-4c87-9136-bb49d8751608",
        "colab": {
          "base_uri": "https://localhost:8080/"
        }
      },
      "execution_count": null,
      "outputs": [
        {
          "output_type": "execute_result",
          "data": {
            "text/plain": [
              "0    2414\n",
              "1     170\n",
              "Name: class, dtype: int64"
            ]
          },
          "metadata": {},
          "execution_count": 41
        }
      ]
    },
    {
      "cell_type": "code",
      "source": [
        "data['seismic'].unique()"
      ],
      "metadata": {
        "colab": {
          "base_uri": "https://localhost:8080/"
        },
        "id": "uOPc8dklBx7d",
        "outputId": "bbfa65b9-007e-4eba-8548-f5543113a08b"
      },
      "execution_count": null,
      "outputs": [
        {
          "output_type": "execute_result",
          "data": {
            "text/plain": [
              "array(['a', 'b'], dtype=object)"
            ]
          },
          "metadata": {},
          "execution_count": 42
        }
      ]
    },
    {
      "cell_type": "code",
      "source": [
        "data['seismic'].value_counts()"
      ],
      "metadata": {
        "id": "YGpKRMD2hlkr",
        "outputId": "7e5ad6e7-88c9-4b1f-b635-501e1ccc7e11",
        "colab": {
          "base_uri": "https://localhost:8080/"
        }
      },
      "execution_count": null,
      "outputs": [
        {
          "output_type": "execute_result",
          "data": {
            "text/plain": [
              "a    1682\n",
              "b     902\n",
              "Name: seismic, dtype: int64"
            ]
          },
          "metadata": {},
          "execution_count": 43
        }
      ]
    },
    {
      "cell_type": "code",
      "source": [
        "data['seismoacoustic'].unique()"
      ],
      "metadata": {
        "id": "MOjCrhnQgXUm",
        "outputId": "d1dfce07-eb45-4bb6-d22f-7cc27aeadc4f",
        "colab": {
          "base_uri": "https://localhost:8080/"
        }
      },
      "execution_count": null,
      "outputs": [
        {
          "output_type": "execute_result",
          "data": {
            "text/plain": [
              "array(['a', 'b', 'c'], dtype=object)"
            ]
          },
          "metadata": {},
          "execution_count": 44
        }
      ]
    },
    {
      "cell_type": "code",
      "source": [
        "data['seismoacoustic'].value_counts()"
      ],
      "metadata": {
        "colab": {
          "base_uri": "https://localhost:8080/"
        },
        "id": "GCAxe_-8B3lb",
        "outputId": "16e3b058-6431-4ab3-e3e2-1d2d49315a9f"
      },
      "execution_count": null,
      "outputs": [
        {
          "output_type": "execute_result",
          "data": {
            "text/plain": [
              "a    1580\n",
              "b     956\n",
              "c      48\n",
              "Name: seismoacoustic, dtype: int64"
            ]
          },
          "metadata": {},
          "execution_count": 45
        }
      ]
    },
    {
      "cell_type": "code",
      "source": [
        "from sklearn import preprocessing \n",
        "label_encoder = preprocessing.LabelEncoder() \n",
        "data['seismic']= label_encoder.fit_transform(data['seismic']) \n",
        "  \n",
        "data['seismic'].unique() "
      ],
      "metadata": {
        "id": "Qv9SVsIQJpF-",
        "outputId": "c9f38f71-483d-480b-877e-6834d3daa92b",
        "colab": {
          "base_uri": "https://localhost:8080/"
        }
      },
      "execution_count": null,
      "outputs": [
        {
          "output_type": "execute_result",
          "data": {
            "text/plain": [
              "array([0, 1])"
            ]
          },
          "metadata": {},
          "execution_count": 46
        }
      ]
    },
    {
      "cell_type": "code",
      "source": [
        "data['seismic']"
      ],
      "metadata": {
        "colab": {
          "base_uri": "https://localhost:8080/"
        },
        "id": "qAUPD8baKy2U",
        "outputId": "c0b9b180-ed43-43c6-8cf5-e27c7bb2229b"
      },
      "execution_count": null,
      "outputs": [
        {
          "output_type": "execute_result",
          "data": {
            "text/plain": [
              "0       0\n",
              "1       0\n",
              "2       0\n",
              "3       0\n",
              "4       0\n",
              "       ..\n",
              "2579    1\n",
              "2580    1\n",
              "2581    1\n",
              "2582    0\n",
              "2583    0\n",
              "Name: seismic, Length: 2584, dtype: int64"
            ]
          },
          "metadata": {},
          "execution_count": 47
        }
      ]
    },
    {
      "cell_type": "code",
      "source": [
        "data['seismoacoustic']= label_encoder.fit_transform(data['seismoacoustic']) \n",
        "  \n",
        "data['seismoacoustic'].unique() "
      ],
      "metadata": {
        "id": "FNvXrtuKh87X",
        "outputId": "fc7195de-5a4c-470e-e160-9e1016579596",
        "colab": {
          "base_uri": "https://localhost:8080/"
        }
      },
      "execution_count": null,
      "outputs": [
        {
          "output_type": "execute_result",
          "data": {
            "text/plain": [
              "array([0, 1, 2])"
            ]
          },
          "metadata": {},
          "execution_count": 48
        }
      ]
    },
    {
      "cell_type": "code",
      "source": [
        "data['ghazard']= label_encoder.fit_transform(data['ghazard']) \n",
        "  \n",
        "data['ghazard'].unique() "
      ],
      "metadata": {
        "id": "2GOFPQ2AHHi4",
        "outputId": "d4c2da6f-d319-46cb-de12-2d8f808c319c",
        "colab": {
          "base_uri": "https://localhost:8080/"
        }
      },
      "execution_count": null,
      "outputs": [
        {
          "output_type": "execute_result",
          "data": {
            "text/plain": [
              "array([0, 1, 2])"
            ]
          },
          "metadata": {},
          "execution_count": 49
        }
      ]
    },
    {
      "cell_type": "code",
      "source": [
        "data['shift']= label_encoder.fit_transform(data['shift']) \n",
        "  \n",
        "data['shift'].unique() "
      ],
      "metadata": {
        "id": "SQyu38AJh9ia",
        "outputId": "0387ed25-173c-4f33-eff1-c82e7d73e0d5",
        "colab": {
          "base_uri": "https://localhost:8080/"
        }
      },
      "execution_count": null,
      "outputs": [
        {
          "output_type": "execute_result",
          "data": {
            "text/plain": [
              "array([0, 1])"
            ]
          },
          "metadata": {},
          "execution_count": 50
        }
      ]
    },
    {
      "cell_type": "code",
      "source": [
        "data.head()"
      ],
      "metadata": {
        "id": "l1DRTrSzHQaS",
        "outputId": "b63d2b33-67d6-40d1-c60f-93a8959520f2",
        "colab": {
          "base_uri": "https://localhost:8080/",
          "height": 270
        }
      },
      "execution_count": null,
      "outputs": [
        {
          "output_type": "execute_result",
          "data": {
            "text/plain": [
              "   id  seismic  seismoacoustic  shift  genergy  gpuls  gdenergy  gdpuls  \\\n",
              "0   1        0               0      0    15180     48       -72     -72   \n",
              "1   2        0               0      0    14720     33       -70     -79   \n",
              "2   3        0               0      0     8050     30       -81     -78   \n",
              "3   4        0               0      0    28820    171       -23      40   \n",
              "4   5        0               0      0    12640     57       -63     -52   \n",
              "\n",
              "   ghazard  nbumps  nbumps2  nbumps3  nbumps4  nbumps5  nbumps6  nbumps7  \\\n",
              "0        0       0        0        0        0        0        0        0   \n",
              "1        0       1        0        1        0        0        0        0   \n",
              "2        0       0        0        0        0        0        0        0   \n",
              "3        0       1        0        1        0        0        0        0   \n",
              "4        0       0        0        0        0        0        0        0   \n",
              "\n",
              "   nbumps89  energy  maxenergy  class  \n",
              "0         0       0          0      0  \n",
              "1         0    2000       2000      0  \n",
              "2         0       0          0      0  \n",
              "3         0    3000       3000      0  \n",
              "4         0       0          0      0  "
            ],
            "text/html": [
              "\n",
              "  <div id=\"df-f7f47fc0-b37e-438e-873d-5bc3941b565b\">\n",
              "    <div class=\"colab-df-container\">\n",
              "      <div>\n",
              "<style scoped>\n",
              "    .dataframe tbody tr th:only-of-type {\n",
              "        vertical-align: middle;\n",
              "    }\n",
              "\n",
              "    .dataframe tbody tr th {\n",
              "        vertical-align: top;\n",
              "    }\n",
              "\n",
              "    .dataframe thead th {\n",
              "        text-align: right;\n",
              "    }\n",
              "</style>\n",
              "<table border=\"1\" class=\"dataframe\">\n",
              "  <thead>\n",
              "    <tr style=\"text-align: right;\">\n",
              "      <th></th>\n",
              "      <th>id</th>\n",
              "      <th>seismic</th>\n",
              "      <th>seismoacoustic</th>\n",
              "      <th>shift</th>\n",
              "      <th>genergy</th>\n",
              "      <th>gpuls</th>\n",
              "      <th>gdenergy</th>\n",
              "      <th>gdpuls</th>\n",
              "      <th>ghazard</th>\n",
              "      <th>nbumps</th>\n",
              "      <th>nbumps2</th>\n",
              "      <th>nbumps3</th>\n",
              "      <th>nbumps4</th>\n",
              "      <th>nbumps5</th>\n",
              "      <th>nbumps6</th>\n",
              "      <th>nbumps7</th>\n",
              "      <th>nbumps89</th>\n",
              "      <th>energy</th>\n",
              "      <th>maxenergy</th>\n",
              "      <th>class</th>\n",
              "    </tr>\n",
              "  </thead>\n",
              "  <tbody>\n",
              "    <tr>\n",
              "      <th>0</th>\n",
              "      <td>1</td>\n",
              "      <td>0</td>\n",
              "      <td>0</td>\n",
              "      <td>0</td>\n",
              "      <td>15180</td>\n",
              "      <td>48</td>\n",
              "      <td>-72</td>\n",
              "      <td>-72</td>\n",
              "      <td>0</td>\n",
              "      <td>0</td>\n",
              "      <td>0</td>\n",
              "      <td>0</td>\n",
              "      <td>0</td>\n",
              "      <td>0</td>\n",
              "      <td>0</td>\n",
              "      <td>0</td>\n",
              "      <td>0</td>\n",
              "      <td>0</td>\n",
              "      <td>0</td>\n",
              "      <td>0</td>\n",
              "    </tr>\n",
              "    <tr>\n",
              "      <th>1</th>\n",
              "      <td>2</td>\n",
              "      <td>0</td>\n",
              "      <td>0</td>\n",
              "      <td>0</td>\n",
              "      <td>14720</td>\n",
              "      <td>33</td>\n",
              "      <td>-70</td>\n",
              "      <td>-79</td>\n",
              "      <td>0</td>\n",
              "      <td>1</td>\n",
              "      <td>0</td>\n",
              "      <td>1</td>\n",
              "      <td>0</td>\n",
              "      <td>0</td>\n",
              "      <td>0</td>\n",
              "      <td>0</td>\n",
              "      <td>0</td>\n",
              "      <td>2000</td>\n",
              "      <td>2000</td>\n",
              "      <td>0</td>\n",
              "    </tr>\n",
              "    <tr>\n",
              "      <th>2</th>\n",
              "      <td>3</td>\n",
              "      <td>0</td>\n",
              "      <td>0</td>\n",
              "      <td>0</td>\n",
              "      <td>8050</td>\n",
              "      <td>30</td>\n",
              "      <td>-81</td>\n",
              "      <td>-78</td>\n",
              "      <td>0</td>\n",
              "      <td>0</td>\n",
              "      <td>0</td>\n",
              "      <td>0</td>\n",
              "      <td>0</td>\n",
              "      <td>0</td>\n",
              "      <td>0</td>\n",
              "      <td>0</td>\n",
              "      <td>0</td>\n",
              "      <td>0</td>\n",
              "      <td>0</td>\n",
              "      <td>0</td>\n",
              "    </tr>\n",
              "    <tr>\n",
              "      <th>3</th>\n",
              "      <td>4</td>\n",
              "      <td>0</td>\n",
              "      <td>0</td>\n",
              "      <td>0</td>\n",
              "      <td>28820</td>\n",
              "      <td>171</td>\n",
              "      <td>-23</td>\n",
              "      <td>40</td>\n",
              "      <td>0</td>\n",
              "      <td>1</td>\n",
              "      <td>0</td>\n",
              "      <td>1</td>\n",
              "      <td>0</td>\n",
              "      <td>0</td>\n",
              "      <td>0</td>\n",
              "      <td>0</td>\n",
              "      <td>0</td>\n",
              "      <td>3000</td>\n",
              "      <td>3000</td>\n",
              "      <td>0</td>\n",
              "    </tr>\n",
              "    <tr>\n",
              "      <th>4</th>\n",
              "      <td>5</td>\n",
              "      <td>0</td>\n",
              "      <td>0</td>\n",
              "      <td>0</td>\n",
              "      <td>12640</td>\n",
              "      <td>57</td>\n",
              "      <td>-63</td>\n",
              "      <td>-52</td>\n",
              "      <td>0</td>\n",
              "      <td>0</td>\n",
              "      <td>0</td>\n",
              "      <td>0</td>\n",
              "      <td>0</td>\n",
              "      <td>0</td>\n",
              "      <td>0</td>\n",
              "      <td>0</td>\n",
              "      <td>0</td>\n",
              "      <td>0</td>\n",
              "      <td>0</td>\n",
              "      <td>0</td>\n",
              "    </tr>\n",
              "  </tbody>\n",
              "</table>\n",
              "</div>\n",
              "      <button class=\"colab-df-convert\" onclick=\"convertToInteractive('df-f7f47fc0-b37e-438e-873d-5bc3941b565b')\"\n",
              "              title=\"Convert this dataframe to an interactive table.\"\n",
              "              style=\"display:none;\">\n",
              "        \n",
              "  <svg xmlns=\"http://www.w3.org/2000/svg\" height=\"24px\"viewBox=\"0 0 24 24\"\n",
              "       width=\"24px\">\n",
              "    <path d=\"M0 0h24v24H0V0z\" fill=\"none\"/>\n",
              "    <path d=\"M18.56 5.44l.94 2.06.94-2.06 2.06-.94-2.06-.94-.94-2.06-.94 2.06-2.06.94zm-11 1L8.5 8.5l.94-2.06 2.06-.94-2.06-.94L8.5 2.5l-.94 2.06-2.06.94zm10 10l.94 2.06.94-2.06 2.06-.94-2.06-.94-.94-2.06-.94 2.06-2.06.94z\"/><path d=\"M17.41 7.96l-1.37-1.37c-.4-.4-.92-.59-1.43-.59-.52 0-1.04.2-1.43.59L10.3 9.45l-7.72 7.72c-.78.78-.78 2.05 0 2.83L4 21.41c.39.39.9.59 1.41.59.51 0 1.02-.2 1.41-.59l7.78-7.78 2.81-2.81c.8-.78.8-2.07 0-2.86zM5.41 20L4 18.59l7.72-7.72 1.47 1.35L5.41 20z\"/>\n",
              "  </svg>\n",
              "      </button>\n",
              "      \n",
              "  <style>\n",
              "    .colab-df-container {\n",
              "      display:flex;\n",
              "      flex-wrap:wrap;\n",
              "      gap: 12px;\n",
              "    }\n",
              "\n",
              "    .colab-df-convert {\n",
              "      background-color: #E8F0FE;\n",
              "      border: none;\n",
              "      border-radius: 50%;\n",
              "      cursor: pointer;\n",
              "      display: none;\n",
              "      fill: #1967D2;\n",
              "      height: 32px;\n",
              "      padding: 0 0 0 0;\n",
              "      width: 32px;\n",
              "    }\n",
              "\n",
              "    .colab-df-convert:hover {\n",
              "      background-color: #E2EBFA;\n",
              "      box-shadow: 0px 1px 2px rgba(60, 64, 67, 0.3), 0px 1px 3px 1px rgba(60, 64, 67, 0.15);\n",
              "      fill: #174EA6;\n",
              "    }\n",
              "\n",
              "    [theme=dark] .colab-df-convert {\n",
              "      background-color: #3B4455;\n",
              "      fill: #D2E3FC;\n",
              "    }\n",
              "\n",
              "    [theme=dark] .colab-df-convert:hover {\n",
              "      background-color: #434B5C;\n",
              "      box-shadow: 0px 1px 3px 1px rgba(0, 0, 0, 0.15);\n",
              "      filter: drop-shadow(0px 1px 2px rgba(0, 0, 0, 0.3));\n",
              "      fill: #FFFFFF;\n",
              "    }\n",
              "  </style>\n",
              "\n",
              "      <script>\n",
              "        const buttonEl =\n",
              "          document.querySelector('#df-f7f47fc0-b37e-438e-873d-5bc3941b565b button.colab-df-convert');\n",
              "        buttonEl.style.display =\n",
              "          google.colab.kernel.accessAllowed ? 'block' : 'none';\n",
              "\n",
              "        async function convertToInteractive(key) {\n",
              "          const element = document.querySelector('#df-f7f47fc0-b37e-438e-873d-5bc3941b565b');\n",
              "          const dataTable =\n",
              "            await google.colab.kernel.invokeFunction('convertToInteractive',\n",
              "                                                     [key], {});\n",
              "          if (!dataTable) return;\n",
              "\n",
              "          const docLinkHtml = 'Like what you see? Visit the ' +\n",
              "            '<a target=\"_blank\" href=https://colab.research.google.com/notebooks/data_table.ipynb>data table notebook</a>'\n",
              "            + ' to learn more about interactive tables.';\n",
              "          element.innerHTML = '';\n",
              "          dataTable['output_type'] = 'display_data';\n",
              "          await google.colab.output.renderOutput(dataTable, element);\n",
              "          const docLink = document.createElement('div');\n",
              "          docLink.innerHTML = docLinkHtml;\n",
              "          element.appendChild(docLink);\n",
              "        }\n",
              "      </script>\n",
              "    </div>\n",
              "  </div>\n",
              "  "
            ]
          },
          "metadata": {},
          "execution_count": 51
        }
      ]
    },
    {
      "cell_type": "code",
      "source": [
        "X = data.drop('class', axis = 1)\n",
        "y= data['class']\n",
        "from sklearn.model_selection import train_test_split\n",
        "X_train, X_test, y_train, y_test = train_test_split(X, y, test_size = 0.20)\n",
        "A_train, A_test, B_train, B_test = train_test_split(X, y, test_size = 0.20)"
      ],
      "metadata": {
        "id": "Vc7ROaapLLd-"
      },
      "execution_count": null,
      "outputs": []
    },
    {
      "cell_type": "code",
      "source": [
        "!pip install smote_variants"
      ],
      "metadata": {
        "id": "a7UrjHtGoVG3",
        "outputId": "359a90fa-3e65-44fb-d494-bc41afbaf388",
        "colab": {
          "base_uri": "https://localhost:8080/"
        }
      },
      "execution_count": null,
      "outputs": [
        {
          "output_type": "stream",
          "name": "stdout",
          "text": [
            "Looking in indexes: https://pypi.org/simple, https://us-python.pkg.dev/colab-wheels/public/simple/\n",
            "Requirement already satisfied: smote_variants in /usr/local/lib/python3.9/dist-packages (0.7.1)\n",
            "Requirement already satisfied: scikit-learn in /usr/local/lib/python3.9/dist-packages (from smote_variants) (1.2.2)\n",
            "Requirement already satisfied: metric-learn in /usr/local/lib/python3.9/dist-packages (from smote_variants) (0.6.2)\n",
            "Requirement already satisfied: minisom in /usr/local/lib/python3.9/dist-packages (from smote_variants) (2.3.1)\n",
            "Requirement already satisfied: pandas in /usr/local/lib/python3.9/dist-packages (from smote_variants) (1.4.4)\n",
            "Requirement already satisfied: scipy in /usr/local/lib/python3.9/dist-packages (from smote_variants) (1.10.1)\n",
            "Requirement already satisfied: numpy>=1.13.0 in /usr/local/lib/python3.9/dist-packages (from smote_variants) (1.22.4)\n",
            "Requirement already satisfied: joblib in /usr/local/lib/python3.9/dist-packages (from smote_variants) (1.1.1)\n",
            "Requirement already satisfied: statistics in /usr/local/lib/python3.9/dist-packages (from smote_variants) (1.0.3.5)\n",
            "Requirement already satisfied: mkl in /usr/local/lib/python3.9/dist-packages (from smote_variants) (2019.0)\n",
            "Requirement already satisfied: tensorflow in /usr/local/lib/python3.9/dist-packages (from smote_variants) (2.12.0)\n",
            "Requirement already satisfied: keras in /usr/local/lib/python3.9/dist-packages (from smote_variants) (2.12.0)\n",
            "Requirement already satisfied: seaborn in /usr/local/lib/python3.9/dist-packages (from smote_variants) (0.12.2)\n",
            "Requirement already satisfied: threadpoolctl>=2.0.0 in /usr/local/lib/python3.9/dist-packages (from scikit-learn->smote_variants) (3.1.0)\n",
            "Requirement already satisfied: intel-openmp in /usr/local/lib/python3.9/dist-packages (from mkl->smote_variants) (2023.0.0)\n",
            "Requirement already satisfied: pytz>=2020.1 in /usr/local/lib/python3.9/dist-packages (from pandas->smote_variants) (2022.7.1)\n",
            "Requirement already satisfied: python-dateutil>=2.8.1 in /usr/local/lib/python3.9/dist-packages (from pandas->smote_variants) (2.8.2)\n",
            "Requirement already satisfied: matplotlib!=3.6.1,>=3.1 in /usr/local/lib/python3.9/dist-packages (from seaborn->smote_variants) (3.7.1)\n",
            "Requirement already satisfied: docutils>=0.3 in /usr/local/lib/python3.9/dist-packages (from statistics->smote_variants) (0.16)\n",
            "Requirement already satisfied: google-pasta>=0.1.1 in /usr/local/lib/python3.9/dist-packages (from tensorflow->smote_variants) (0.2.0)\n",
            "Requirement already satisfied: six>=1.12.0 in /usr/local/lib/python3.9/dist-packages (from tensorflow->smote_variants) (1.16.0)\n",
            "Requirement already satisfied: libclang>=13.0.0 in /usr/local/lib/python3.9/dist-packages (from tensorflow->smote_variants) (16.0.0)\n",
            "Requirement already satisfied: setuptools in /usr/local/lib/python3.9/dist-packages (from tensorflow->smote_variants) (67.6.1)\n",
            "Requirement already satisfied: termcolor>=1.1.0 in /usr/local/lib/python3.9/dist-packages (from tensorflow->smote_variants) (2.2.0)\n",
            "Requirement already satisfied: gast<=0.4.0,>=0.2.1 in /usr/local/lib/python3.9/dist-packages (from tensorflow->smote_variants) (0.4.0)\n",
            "Requirement already satisfied: jax>=0.3.15 in /usr/local/lib/python3.9/dist-packages (from tensorflow->smote_variants) (0.4.7)\n",
            "Requirement already satisfied: astunparse>=1.6.0 in /usr/local/lib/python3.9/dist-packages (from tensorflow->smote_variants) (1.6.3)\n",
            "Requirement already satisfied: tensorboard<2.13,>=2.12 in /usr/local/lib/python3.9/dist-packages (from tensorflow->smote_variants) (2.12.0)\n",
            "Requirement already satisfied: absl-py>=1.0.0 in /usr/local/lib/python3.9/dist-packages (from tensorflow->smote_variants) (1.4.0)\n",
            "Requirement already satisfied: packaging in /usr/local/lib/python3.9/dist-packages (from tensorflow->smote_variants) (23.0)\n",
            "Requirement already satisfied: wrapt<1.15,>=1.11.0 in /usr/local/lib/python3.9/dist-packages (from tensorflow->smote_variants) (1.14.1)\n",
            "Requirement already satisfied: grpcio<2.0,>=1.24.3 in /usr/local/lib/python3.9/dist-packages (from tensorflow->smote_variants) (1.53.0)\n",
            "Requirement already satisfied: flatbuffers>=2.0 in /usr/local/lib/python3.9/dist-packages (from tensorflow->smote_variants) (23.3.3)\n",
            "Requirement already satisfied: protobuf!=4.21.0,!=4.21.1,!=4.21.2,!=4.21.3,!=4.21.4,!=4.21.5,<5.0.0dev,>=3.20.3 in /usr/local/lib/python3.9/dist-packages (from tensorflow->smote_variants) (3.20.3)\n",
            "Requirement already satisfied: h5py>=2.9.0 in /usr/local/lib/python3.9/dist-packages (from tensorflow->smote_variants) (3.8.0)\n",
            "Requirement already satisfied: opt-einsum>=2.3.2 in /usr/local/lib/python3.9/dist-packages (from tensorflow->smote_variants) (3.3.0)\n",
            "Requirement already satisfied: tensorflow-estimator<2.13,>=2.12.0 in /usr/local/lib/python3.9/dist-packages (from tensorflow->smote_variants) (2.12.0)\n",
            "Requirement already satisfied: typing-extensions>=3.6.6 in /usr/local/lib/python3.9/dist-packages (from tensorflow->smote_variants) (4.5.0)\n",
            "Requirement already satisfied: tensorflow-io-gcs-filesystem>=0.23.1 in /usr/local/lib/python3.9/dist-packages (from tensorflow->smote_variants) (0.32.0)\n",
            "Requirement already satisfied: wheel<1.0,>=0.23.0 in /usr/local/lib/python3.9/dist-packages (from astunparse>=1.6.0->tensorflow->smote_variants) (0.40.0)\n",
            "Requirement already satisfied: ml-dtypes>=0.0.3 in /usr/local/lib/python3.9/dist-packages (from jax>=0.3.15->tensorflow->smote_variants) (0.0.4)\n",
            "Requirement already satisfied: fonttools>=4.22.0 in /usr/local/lib/python3.9/dist-packages (from matplotlib!=3.6.1,>=3.1->seaborn->smote_variants) (4.39.3)\n",
            "Requirement already satisfied: importlib-resources>=3.2.0 in /usr/local/lib/python3.9/dist-packages (from matplotlib!=3.6.1,>=3.1->seaborn->smote_variants) (5.12.0)\n",
            "Requirement already satisfied: pyparsing>=2.3.1 in /usr/local/lib/python3.9/dist-packages (from matplotlib!=3.6.1,>=3.1->seaborn->smote_variants) (3.0.9)\n",
            "Requirement already satisfied: cycler>=0.10 in /usr/local/lib/python3.9/dist-packages (from matplotlib!=3.6.1,>=3.1->seaborn->smote_variants) (0.11.0)\n",
            "Requirement already satisfied: pillow>=6.2.0 in /usr/local/lib/python3.9/dist-packages (from matplotlib!=3.6.1,>=3.1->seaborn->smote_variants) (8.4.0)\n",
            "Requirement already satisfied: kiwisolver>=1.0.1 in /usr/local/lib/python3.9/dist-packages (from matplotlib!=3.6.1,>=3.1->seaborn->smote_variants) (1.4.4)\n",
            "Requirement already satisfied: contourpy>=1.0.1 in /usr/local/lib/python3.9/dist-packages (from matplotlib!=3.6.1,>=3.1->seaborn->smote_variants) (1.0.7)\n",
            "Requirement already satisfied: markdown>=2.6.8 in /usr/local/lib/python3.9/dist-packages (from tensorboard<2.13,>=2.12->tensorflow->smote_variants) (3.4.3)\n",
            "Requirement already satisfied: google-auth<3,>=1.6.3 in /usr/local/lib/python3.9/dist-packages (from tensorboard<2.13,>=2.12->tensorflow->smote_variants) (2.17.0)\n",
            "Requirement already satisfied: tensorboard-data-server<0.8.0,>=0.7.0 in /usr/local/lib/python3.9/dist-packages (from tensorboard<2.13,>=2.12->tensorflow->smote_variants) (0.7.0)\n",
            "Requirement already satisfied: werkzeug>=1.0.1 in /usr/local/lib/python3.9/dist-packages (from tensorboard<2.13,>=2.12->tensorflow->smote_variants) (2.2.3)\n",
            "Requirement already satisfied: google-auth-oauthlib<0.5,>=0.4.1 in /usr/local/lib/python3.9/dist-packages (from tensorboard<2.13,>=2.12->tensorflow->smote_variants) (0.4.6)\n",
            "Requirement already satisfied: tensorboard-plugin-wit>=1.6.0 in /usr/local/lib/python3.9/dist-packages (from tensorboard<2.13,>=2.12->tensorflow->smote_variants) (1.8.1)\n",
            "Requirement already satisfied: requests<3,>=2.21.0 in /usr/local/lib/python3.9/dist-packages (from tensorboard<2.13,>=2.12->tensorflow->smote_variants) (2.27.1)\n",
            "Requirement already satisfied: pyasn1-modules>=0.2.1 in /usr/local/lib/python3.9/dist-packages (from google-auth<3,>=1.6.3->tensorboard<2.13,>=2.12->tensorflow->smote_variants) (0.2.8)\n",
            "Requirement already satisfied: rsa<5,>=3.1.4 in /usr/local/lib/python3.9/dist-packages (from google-auth<3,>=1.6.3->tensorboard<2.13,>=2.12->tensorflow->smote_variants) (4.9)\n",
            "Requirement already satisfied: cachetools<6.0,>=2.0.0 in /usr/local/lib/python3.9/dist-packages (from google-auth<3,>=1.6.3->tensorboard<2.13,>=2.12->tensorflow->smote_variants) (5.3.0)\n",
            "Requirement already satisfied: requests-oauthlib>=0.7.0 in /usr/local/lib/python3.9/dist-packages (from google-auth-oauthlib<0.5,>=0.4.1->tensorboard<2.13,>=2.12->tensorflow->smote_variants) (1.3.1)\n",
            "Requirement already satisfied: zipp>=3.1.0 in /usr/local/lib/python3.9/dist-packages (from importlib-resources>=3.2.0->matplotlib!=3.6.1,>=3.1->seaborn->smote_variants) (3.15.0)\n",
            "Requirement already satisfied: importlib-metadata>=4.4 in /usr/local/lib/python3.9/dist-packages (from markdown>=2.6.8->tensorboard<2.13,>=2.12->tensorflow->smote_variants) (6.1.0)\n",
            "Requirement already satisfied: certifi>=2017.4.17 in /usr/local/lib/python3.9/dist-packages (from requests<3,>=2.21.0->tensorboard<2.13,>=2.12->tensorflow->smote_variants) (2022.12.7)\n",
            "Requirement already satisfied: idna<4,>=2.5 in /usr/local/lib/python3.9/dist-packages (from requests<3,>=2.21.0->tensorboard<2.13,>=2.12->tensorflow->smote_variants) (3.4)\n",
            "Requirement already satisfied: charset-normalizer~=2.0.0 in /usr/local/lib/python3.9/dist-packages (from requests<3,>=2.21.0->tensorboard<2.13,>=2.12->tensorflow->smote_variants) (2.0.12)\n",
            "Requirement already satisfied: urllib3<1.27,>=1.21.1 in /usr/local/lib/python3.9/dist-packages (from requests<3,>=2.21.0->tensorboard<2.13,>=2.12->tensorflow->smote_variants) (1.26.15)\n",
            "Requirement already satisfied: MarkupSafe>=2.1.1 in /usr/local/lib/python3.9/dist-packages (from werkzeug>=1.0.1->tensorboard<2.13,>=2.12->tensorflow->smote_variants) (2.1.2)\n",
            "Requirement already satisfied: pyasn1<0.5.0,>=0.4.6 in /usr/local/lib/python3.9/dist-packages (from pyasn1-modules>=0.2.1->google-auth<3,>=1.6.3->tensorboard<2.13,>=2.12->tensorflow->smote_variants) (0.4.8)\n",
            "Requirement already satisfied: oauthlib>=3.0.0 in /usr/local/lib/python3.9/dist-packages (from requests-oauthlib>=0.7.0->google-auth-oauthlib<0.5,>=0.4.1->tensorboard<2.13,>=2.12->tensorflow->smote_variants) (3.2.2)\n"
          ]
        }
      ]
    },
    {
      "cell_type": "code",
      "source": [
        "#CLUSTERSMOTE\n",
        "import smote_variants as sv\n",
        "oversample=sv.MulticlassOversampling(oversampler='distance_SMOTE',\n",
        "                                      oversampler_params={'random_state': 5})\n",
        "X_train,y_train=oversample.sample(X_train,y_train)\n",
        "\n"
      ],
      "metadata": {
        "colab": {
          "base_uri": "https://localhost:8080/"
        },
        "id": "TjIf8U3EOvVY",
        "outputId": "046060f1-b1e7-46cb-981a-8ab090887861"
      },
      "execution_count": null,
      "outputs": [
        {
          "output_type": "stream",
          "name": "stderr",
          "text": [
            "2023-04-02 04:29:21,610:INFO:MulticlassOversampling: Running multiclass oversampling with strategy eq_1_vs_many_successive\n",
            "INFO:smote_variants:MulticlassOversampling: Running multiclass oversampling with strategy eq_1_vs_many_successive\n",
            "2023-04-02 04:29:21,620:INFO:MulticlassOversampling: Sampling minority class with label: 1\n",
            "INFO:smote_variants:MulticlassOversampling: Sampling minority class with label: 1\n",
            "2023-04-02 04:29:21,632:INFO:distance_SMOTE: Running sampling via ('distance_SMOTE', \"{'proportion': 1.0, 'n_neighbors': 5, 'nn_params': {}, 'n_jobs': 1, 'ss_params': {'n_dim': 2, 'simplex_sampling': 'random', 'within_simplex_sampling': 'random', 'gaussian_component': {}}, 'random_state': 5, 'class_name': 'distance_SMOTE'}\")\n",
            "INFO:smote_variants:distance_SMOTE: Running sampling via ('distance_SMOTE', \"{'proportion': 1.0, 'n_neighbors': 5, 'nn_params': {}, 'n_jobs': 1, 'ss_params': {'n_dim': 2, 'simplex_sampling': 'random', 'within_simplex_sampling': 'random', 'gaussian_component': {}}, 'random_state': 5, 'class_name': 'distance_SMOTE'}\")\n",
            "2023-04-02 04:29:21,639:INFO:NearestNeighborsWithMetricTensor: NN fitting with metric minkowski\n",
            "INFO:smote_variants:NearestNeighborsWithMetricTensor: NN fitting with metric minkowski\n",
            "2023-04-02 04:29:21,646:INFO:NearestNeighborsWithMetricTensor: kneighbors query minkowski\n",
            "INFO:smote_variants:NearestNeighborsWithMetricTensor: kneighbors query minkowski\n",
            "2023-04-02 04:29:21,655:INFO:distance_SMOTE: simplex sampling with n_dim 2\n",
            "INFO:smote_variants:distance_SMOTE: simplex sampling with n_dim 2\n"
          ]
        }
      ]
    },
    {
      "cell_type": "code",
      "source": [
        "#clusterSmote logistic \n",
        "from sklearn.linear_model import LogisticRegression \n",
        "data_Check = LogisticRegression()\n",
        "data_Check.fit(X_train, y_train)\n",
        "y_pred = data_Check.predict(X_test)\n",
        "correct = (y_pred == y_test).sum()\n",
        "accuracy = correct/len(y_test)*100\n",
        "print(\"accuracy = \", accuracy, \"%\")"
      ],
      "metadata": {
        "id": "0RDbfqim0-Bs",
        "outputId": "7d0f60dd-45e2-4017-d41f-2d57aae1540c",
        "colab": {
          "base_uri": "https://localhost:8080/"
        }
      },
      "execution_count": null,
      "outputs": [
        {
          "output_type": "stream",
          "name": "stdout",
          "text": [
            "accuracy =  73.88781431334623 %\n"
          ]
        },
        {
          "output_type": "stream",
          "name": "stderr",
          "text": [
            "/usr/local/lib/python3.9/dist-packages/sklearn/base.py:432: UserWarning: X has feature names, but LogisticRegression was fitted without feature names\n",
            "  warnings.warn(\n"
          ]
        }
      ]
    },
    {
      "cell_type": "code",
      "source": [
        "#cluster smote random forest\n",
        "from sklearn.ensemble import RandomForestClassifier \n",
        "data_Check= RandomForestClassifier(random_state=1) \n",
        "data_Check.fit(X_train, y_train)\n",
        "y_pred = data_Check.predict(X_test) \n",
        "correct = (y_pred == y_test).sum() \n",
        "accuracy = correct/len(y_test)*100 \n",
        "print(\"accuracy =\", accuracy, \"%\")"
      ],
      "metadata": {
        "id": "RKxjeJaO1Eqm",
        "outputId": "1660a663-3774-49cc-a6bd-a6ada87e6d63",
        "colab": {
          "base_uri": "https://localhost:8080/"
        }
      },
      "execution_count": null,
      "outputs": [
        {
          "output_type": "stream",
          "name": "stdout",
          "text": [
            "accuracy = 93.03675048355899 %\n"
          ]
        }
      ]
    },
    {
      "cell_type": "code",
      "source": [
        "#cluster smote decision tree\n",
        "from sklearn.tree import DecisionTreeClassifier  \n",
        "data_classifier = DecisionTreeClassifier()  \n",
        "data_classifier.fit(X_train, y_train) \n",
        "y_pred = data_classifier.predict(X_test)\n",
        "\n",
        "\n",
        "correct = (y_pred==y_test).sum()\n",
        "accuracy = correct/len(y_test)*100\n",
        "print(\"accuracy = \", accuracy, \"%\")"
      ],
      "metadata": {
        "id": "_nveiJeO1J7t",
        "outputId": "d0a6d764-ac5c-44fb-d8b8-de8882746e98",
        "colab": {
          "base_uri": "https://localhost:8080/"
        }
      },
      "execution_count": null,
      "outputs": [
        {
          "output_type": "stream",
          "name": "stdout",
          "text": [
            "accuracy =  90.52224371373308 %\n"
          ]
        },
        {
          "output_type": "stream",
          "name": "stderr",
          "text": [
            "/usr/local/lib/python3.9/dist-packages/sklearn/base.py:432: UserWarning: X has feature names, but DecisionTreeClassifier was fitted without feature names\n",
            "  warnings.warn(\n"
          ]
        }
      ]
    },
    {
      "cell_type": "code",
      "source": [
        "# Import necessary libraries\n",
        "from sklearn.model_selection import train_test_split\n",
        "from imblearn.over_sampling import KMeansSMOTE\n",
        "from collections import Counter\n",
        "\n",
        "# Split the data into training and testing sets\n",
        "A_train, A_test, B_train, B_test=train_test_split(X,y,test_size=0.2, random_state=63)\n",
        "\n",
        "# Create an instance of KMeansSMOTE\n",
        "kmeans_smote = KMeansSMOTE(\n",
        "    sampling_strategy='auto', # resample all classes\n",
        "    cluster_balance_threshold=0.1, # lower the cluster balance threshold\n",
        "    random_state=42,\n",
        "    k_neighbors=5, # number of nearest neighbors to use\n",
        "    n_jobs=-1 # use all available CPU cores\n",
        ")\n",
        "\n",
        "# Fit and resample the training data\n",
        "X_resampled, y_resampled = kmeans_smote.fit_resample(A_train, B_train)\n",
        "\n",
        "# Print the class distribution before and after resampling\n",
        "print('Class distribution before resampling:', Counter(y_train))\n",
        "print('Class distribution after resampling:', Counter(y_resampled))\n"
      ],
      "metadata": {
        "id": "2vQuu3p3iOt5",
        "colab": {
          "base_uri": "https://localhost:8080/"
        },
        "outputId": "89ab733e-59c0-4f2a-e5bc-6d7625d11817"
      },
      "execution_count": null,
      "outputs": [
        {
          "output_type": "stream",
          "name": "stderr",
          "text": [
            "/usr/local/lib/python3.9/dist-packages/sklearn/cluster/_kmeans.py:870: FutureWarning: The default value of `n_init` will change from 3 to 'auto' in 1.4. Set the value of `n_init` explicitly to suppress the warning\n",
            "  warnings.warn(\n"
          ]
        },
        {
          "output_type": "stream",
          "name": "stdout",
          "text": [
            "Class distribution before resampling: Counter({0: 1934, 1: 133})\n",
            "Class distribution after resampling: Counter({1: 1930, 0: 1929})\n"
          ]
        }
      ]
    },
    {
      "cell_type": "code",
      "source": [
        "#KmeansSmote logistic\n",
        "from sklearn.linear_model import LogisticRegression \n",
        "data_Check = LogisticRegression()\n",
        "data_Check.fit(A_train, B_train)\n",
        "y_pred_km= data_Check.predict(A_test)\n",
        "correct = (y_pred_km == B_test).sum()\n",
        "accuracy = correct/len(B_test)*100\n",
        "print(\"accuracy = \", accuracy, \"%\")"
      ],
      "metadata": {
        "id": "mFVuqo2MiQ_s",
        "outputId": "6eeb1f44-33eb-461b-c609-ac7a54735bf9",
        "colab": {
          "base_uri": "https://localhost:8080/"
        }
      },
      "execution_count": null,
      "outputs": [
        {
          "output_type": "stream",
          "name": "stdout",
          "text": [
            "accuracy =  93.61702127659575 %\n"
          ]
        }
      ]
    },
    {
      "cell_type": "code",
      "source": [
        "#kmeans smote random forest\n",
        "from sklearn.ensemble import RandomForestClassifier \n",
        "data_Check= RandomForestClassifier(random_state=1) \n",
        "data_Check.fit(A_train, B_train)\n",
        "y_pred = data_Check.predict(A_test) \n",
        "correct = (y_pred == B_test).sum() \n",
        "accuracy = correct/len(B_test)*100 \n",
        "print(\"accuracy =\", accuracy, \"%\")"
      ],
      "metadata": {
        "id": "8ot-VUsd1Oa2",
        "outputId": "34dab9d5-b92d-4e1c-f0ee-d6d0abb6e9cd",
        "colab": {
          "base_uri": "https://localhost:8080/"
        }
      },
      "execution_count": null,
      "outputs": [
        {
          "output_type": "stream",
          "name": "stdout",
          "text": [
            "accuracy = 93.81044487427465 %\n"
          ]
        }
      ]
    },
    {
      "cell_type": "code",
      "source": [
        "#kmeans smote decision tree\n",
        "from sklearn.tree import DecisionTreeClassifier  \n",
        "data_classifier = DecisionTreeClassifier()  \n",
        "data_classifier.fit(A_train, B_train) \n",
        "y_pred = data_classifier.predict(A_test)\n",
        "\n",
        "\n",
        "correct = (y_pred==B_test).sum()\n",
        "accuracy = correct/len(B_test)*100\n",
        "print(\"accuracy = \", accuracy, \"%\")"
      ],
      "metadata": {
        "id": "fW-PV6tp1ZeZ",
        "outputId": "9d95ac0e-6a21-4637-e683-01f929d980a4",
        "colab": {
          "base_uri": "https://localhost:8080/"
        }
      },
      "execution_count": null,
      "outputs": [
        {
          "output_type": "stream",
          "name": "stdout",
          "text": [
            "accuracy =  88.39458413926499 %\n"
          ]
        }
      ]
    },
    {
      "cell_type": "code",
      "source": [],
      "metadata": {
        "id": "VXo4PhvN1cNb"
      },
      "execution_count": null,
      "outputs": []
    }
  ]
}