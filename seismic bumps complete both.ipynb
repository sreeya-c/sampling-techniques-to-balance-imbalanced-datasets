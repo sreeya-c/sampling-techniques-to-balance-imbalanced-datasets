{
 "cells": [
  {
   "cell_type": "code",
   "execution_count": 1,
   "id": "3b6cc04f",
   "metadata": {},
   "outputs": [
    {
     "data": {
      "text/html": [
       "<div>\n",
       "<style scoped>\n",
       "    .dataframe tbody tr th:only-of-type {\n",
       "        vertical-align: middle;\n",
       "    }\n",
       "\n",
       "    .dataframe tbody tr th {\n",
       "        vertical-align: top;\n",
       "    }\n",
       "\n",
       "    .dataframe thead th {\n",
       "        text-align: right;\n",
       "    }\n",
       "</style>\n",
       "<table border=\"1\" class=\"dataframe\">\n",
       "  <thead>\n",
       "    <tr style=\"text-align: right;\">\n",
       "      <th></th>\n",
       "      <th>seismic</th>\n",
       "      <th>seismoacoustic</th>\n",
       "      <th>shift</th>\n",
       "      <th>genergy</th>\n",
       "      <th>gpuls</th>\n",
       "      <th>gdenergy</th>\n",
       "      <th>gdpuls</th>\n",
       "      <th>hazard</th>\n",
       "      <th>nbumps</th>\n",
       "      <th>nbumps2</th>\n",
       "      <th>nbumps3</th>\n",
       "      <th>nbumps4</th>\n",
       "      <th>nbumps5</th>\n",
       "      <th>nbumps6</th>\n",
       "      <th>nbumps7</th>\n",
       "      <th>nbumps89</th>\n",
       "      <th>energy</th>\n",
       "      <th>maxenergy</th>\n",
       "      <th>class</th>\n",
       "    </tr>\n",
       "  </thead>\n",
       "  <tbody>\n",
       "    <tr>\n",
       "      <th>0</th>\n",
       "      <td>a</td>\n",
       "      <td>a</td>\n",
       "      <td>N</td>\n",
       "      <td>15180</td>\n",
       "      <td>48</td>\n",
       "      <td>-72</td>\n",
       "      <td>-72</td>\n",
       "      <td>a</td>\n",
       "      <td>0</td>\n",
       "      <td>0</td>\n",
       "      <td>0</td>\n",
       "      <td>0</td>\n",
       "      <td>0</td>\n",
       "      <td>0</td>\n",
       "      <td>0</td>\n",
       "      <td>0</td>\n",
       "      <td>0</td>\n",
       "      <td>0</td>\n",
       "      <td>0</td>\n",
       "    </tr>\n",
       "    <tr>\n",
       "      <th>1</th>\n",
       "      <td>a</td>\n",
       "      <td>a</td>\n",
       "      <td>N</td>\n",
       "      <td>14720</td>\n",
       "      <td>33</td>\n",
       "      <td>-70</td>\n",
       "      <td>-79</td>\n",
       "      <td>a</td>\n",
       "      <td>1</td>\n",
       "      <td>0</td>\n",
       "      <td>1</td>\n",
       "      <td>0</td>\n",
       "      <td>0</td>\n",
       "      <td>0</td>\n",
       "      <td>0</td>\n",
       "      <td>0</td>\n",
       "      <td>2000</td>\n",
       "      <td>2000</td>\n",
       "      <td>0</td>\n",
       "    </tr>\n",
       "    <tr>\n",
       "      <th>2</th>\n",
       "      <td>a</td>\n",
       "      <td>a</td>\n",
       "      <td>N</td>\n",
       "      <td>8050</td>\n",
       "      <td>30</td>\n",
       "      <td>-81</td>\n",
       "      <td>-78</td>\n",
       "      <td>a</td>\n",
       "      <td>0</td>\n",
       "      <td>0</td>\n",
       "      <td>0</td>\n",
       "      <td>0</td>\n",
       "      <td>0</td>\n",
       "      <td>0</td>\n",
       "      <td>0</td>\n",
       "      <td>0</td>\n",
       "      <td>0</td>\n",
       "      <td>0</td>\n",
       "      <td>0</td>\n",
       "    </tr>\n",
       "    <tr>\n",
       "      <th>3</th>\n",
       "      <td>a</td>\n",
       "      <td>a</td>\n",
       "      <td>N</td>\n",
       "      <td>28820</td>\n",
       "      <td>171</td>\n",
       "      <td>-23</td>\n",
       "      <td>40</td>\n",
       "      <td>a</td>\n",
       "      <td>1</td>\n",
       "      <td>0</td>\n",
       "      <td>1</td>\n",
       "      <td>0</td>\n",
       "      <td>0</td>\n",
       "      <td>0</td>\n",
       "      <td>0</td>\n",
       "      <td>0</td>\n",
       "      <td>3000</td>\n",
       "      <td>3000</td>\n",
       "      <td>0</td>\n",
       "    </tr>\n",
       "    <tr>\n",
       "      <th>4</th>\n",
       "      <td>a</td>\n",
       "      <td>a</td>\n",
       "      <td>N</td>\n",
       "      <td>12640</td>\n",
       "      <td>57</td>\n",
       "      <td>-63</td>\n",
       "      <td>-52</td>\n",
       "      <td>a</td>\n",
       "      <td>0</td>\n",
       "      <td>0</td>\n",
       "      <td>0</td>\n",
       "      <td>0</td>\n",
       "      <td>0</td>\n",
       "      <td>0</td>\n",
       "      <td>0</td>\n",
       "      <td>0</td>\n",
       "      <td>0</td>\n",
       "      <td>0</td>\n",
       "      <td>0</td>\n",
       "    </tr>\n",
       "  </tbody>\n",
       "</table>\n",
       "</div>"
      ],
      "text/plain": [
       "  seismic seismoacoustic shift  genergy  gpuls  gdenergy  gdpuls hazard  \\\n",
       "0       a              a     N    15180     48       -72     -72      a   \n",
       "1       a              a     N    14720     33       -70     -79      a   \n",
       "2       a              a     N     8050     30       -81     -78      a   \n",
       "3       a              a     N    28820    171       -23      40      a   \n",
       "4       a              a     N    12640     57       -63     -52      a   \n",
       "\n",
       "   nbumps  nbumps2  nbumps3  nbumps4  nbumps5  nbumps6  nbumps7  nbumps89  \\\n",
       "0       0        0        0        0        0        0        0         0   \n",
       "1       1        0        1        0        0        0        0         0   \n",
       "2       0        0        0        0        0        0        0         0   \n",
       "3       1        0        1        0        0        0        0         0   \n",
       "4       0        0        0        0        0        0        0         0   \n",
       "\n",
       "   energy  maxenergy  class  \n",
       "0       0          0      0  \n",
       "1    2000       2000      0  \n",
       "2       0          0      0  \n",
       "3    3000       3000      0  \n",
       "4       0          0      0  "
      ]
     },
     "execution_count": 1,
     "metadata": {},
     "output_type": "execute_result"
    }
   ],
   "source": [
    "import pandas as pd\n",
    "import numpy as np\n",
    "data = pd.read_csv(\"seismic-bumps.csv\")\n",
    "data.head()"
   ]
  },
  {
   "cell_type": "code",
   "execution_count": 2,
   "id": "f5187121",
   "metadata": {},
   "outputs": [
    {
     "data": {
      "text/plain": [
       "(2584, 19)"
      ]
     },
     "execution_count": 2,
     "metadata": {},
     "output_type": "execute_result"
    }
   ],
   "source": [
    "data.shape"
   ]
  },
  {
   "cell_type": "code",
   "execution_count": 3,
   "id": "37d4cfa0",
   "metadata": {},
   "outputs": [
    {
     "data": {
      "text/plain": [
       "0    2414\n",
       "1     170\n",
       "Name: class, dtype: int64"
      ]
     },
     "execution_count": 3,
     "metadata": {},
     "output_type": "execute_result"
    }
   ],
   "source": [
    "data['class'].value_counts()"
   ]
  },
  {
   "cell_type": "code",
   "execution_count": 4,
   "id": "4a75040b",
   "metadata": {},
   "outputs": [
    {
     "data": {
      "text/plain": [
       "array(['a', 'b'], dtype=object)"
      ]
     },
     "execution_count": 4,
     "metadata": {},
     "output_type": "execute_result"
    }
   ],
   "source": [
    "data['seismic'].unique()"
   ]
  },
  {
   "cell_type": "code",
   "execution_count": 5,
   "id": "ed029b06",
   "metadata": {},
   "outputs": [
    {
     "data": {
      "text/plain": [
       "a    1682\n",
       "b     902\n",
       "Name: seismic, dtype: int64"
      ]
     },
     "execution_count": 5,
     "metadata": {},
     "output_type": "execute_result"
    }
   ],
   "source": [
    "data['seismic'].value_counts()"
   ]
  },
  {
   "cell_type": "code",
   "execution_count": 6,
   "id": "025776be",
   "metadata": {},
   "outputs": [
    {
     "data": {
      "text/plain": [
       "array(['a', 'b', 'c'], dtype=object)"
      ]
     },
     "execution_count": 6,
     "metadata": {},
     "output_type": "execute_result"
    }
   ],
   "source": [
    "data['seismoacoustic'].unique()"
   ]
  },
  {
   "cell_type": "code",
   "execution_count": 7,
   "id": "e4455b86",
   "metadata": {},
   "outputs": [
    {
     "data": {
      "text/plain": [
       "a    1580\n",
       "b     956\n",
       "c      48\n",
       "Name: seismoacoustic, dtype: int64"
      ]
     },
     "execution_count": 7,
     "metadata": {},
     "output_type": "execute_result"
    }
   ],
   "source": [
    "data['seismoacoustic'].value_counts()"
   ]
  },
  {
   "cell_type": "code",
   "execution_count": 8,
   "id": "56c59d30",
   "metadata": {},
   "outputs": [
    {
     "data": {
      "text/plain": [
       "array([0, 1])"
      ]
     },
     "execution_count": 8,
     "metadata": {},
     "output_type": "execute_result"
    }
   ],
   "source": [
    "from sklearn import preprocessing \n",
    "label_encoder = preprocessing.LabelEncoder() \n",
    "data['seismic']= label_encoder.fit_transform(data['seismic']) \n",
    "  \n",
    "data['seismic'].unique() "
   ]
  },
  {
   "cell_type": "code",
   "execution_count": 9,
   "id": "21a77e0c",
   "metadata": {},
   "outputs": [
    {
     "data": {
      "text/plain": [
       "0       0\n",
       "1       0\n",
       "2       0\n",
       "3       0\n",
       "4       0\n",
       "       ..\n",
       "2579    1\n",
       "2580    1\n",
       "2581    1\n",
       "2582    0\n",
       "2583    0\n",
       "Name: seismic, Length: 2584, dtype: int32"
      ]
     },
     "execution_count": 9,
     "metadata": {},
     "output_type": "execute_result"
    }
   ],
   "source": [
    "data['seismic']"
   ]
  },
  {
   "cell_type": "code",
   "execution_count": 10,
   "id": "98ee0bda",
   "metadata": {},
   "outputs": [
    {
     "data": {
      "text/plain": [
       "array([0, 1, 2])"
      ]
     },
     "execution_count": 10,
     "metadata": {},
     "output_type": "execute_result"
    }
   ],
   "source": [
    "data['seismoacoustic']= label_encoder.fit_transform(data['seismoacoustic']) \n",
    "  \n",
    "data['seismoacoustic'].unique() "
   ]
  },
  {
   "cell_type": "code",
   "execution_count": 11,
   "id": "98dce797",
   "metadata": {},
   "outputs": [
    {
     "data": {
      "text/plain": [
       "array([0, 1, 2])"
      ]
     },
     "execution_count": 11,
     "metadata": {},
     "output_type": "execute_result"
    }
   ],
   "source": [
    "data['hazard']= label_encoder.fit_transform(data['hazard']) \n",
    "  \n",
    "data['hazard'].unique() "
   ]
  },
  {
   "cell_type": "code",
   "execution_count": 12,
   "id": "e53cb1d3",
   "metadata": {},
   "outputs": [
    {
     "data": {
      "text/plain": [
       "array([0, 1])"
      ]
     },
     "execution_count": 12,
     "metadata": {},
     "output_type": "execute_result"
    }
   ],
   "source": [
    "data['shift']= label_encoder.fit_transform(data['shift']) \n",
    "  \n",
    "data['shift'].unique() "
   ]
  },
  {
   "cell_type": "code",
   "execution_count": 14,
   "id": "745ae548",
   "metadata": {},
   "outputs": [
    {
     "data": {
      "text/html": [
       "<div>\n",
       "<style scoped>\n",
       "    .dataframe tbody tr th:only-of-type {\n",
       "        vertical-align: middle;\n",
       "    }\n",
       "\n",
       "    .dataframe tbody tr th {\n",
       "        vertical-align: top;\n",
       "    }\n",
       "\n",
       "    .dataframe thead th {\n",
       "        text-align: right;\n",
       "    }\n",
       "</style>\n",
       "<table border=\"1\" class=\"dataframe\">\n",
       "  <thead>\n",
       "    <tr style=\"text-align: right;\">\n",
       "      <th></th>\n",
       "      <th>seismic</th>\n",
       "      <th>seismoacoustic</th>\n",
       "      <th>shift</th>\n",
       "      <th>genergy</th>\n",
       "      <th>gpuls</th>\n",
       "      <th>gdenergy</th>\n",
       "      <th>gdpuls</th>\n",
       "      <th>hazard</th>\n",
       "      <th>nbumps</th>\n",
       "      <th>nbumps2</th>\n",
       "      <th>nbumps3</th>\n",
       "      <th>nbumps4</th>\n",
       "      <th>nbumps5</th>\n",
       "      <th>nbumps6</th>\n",
       "      <th>nbumps7</th>\n",
       "      <th>nbumps89</th>\n",
       "      <th>energy</th>\n",
       "      <th>maxenergy</th>\n",
       "      <th>class</th>\n",
       "    </tr>\n",
       "  </thead>\n",
       "  <tbody>\n",
       "    <tr>\n",
       "      <th>0</th>\n",
       "      <td>0</td>\n",
       "      <td>0</td>\n",
       "      <td>0</td>\n",
       "      <td>15180</td>\n",
       "      <td>48</td>\n",
       "      <td>-72</td>\n",
       "      <td>-72</td>\n",
       "      <td>0</td>\n",
       "      <td>0</td>\n",
       "      <td>0</td>\n",
       "      <td>0</td>\n",
       "      <td>0</td>\n",
       "      <td>0</td>\n",
       "      <td>0</td>\n",
       "      <td>0</td>\n",
       "      <td>0</td>\n",
       "      <td>0</td>\n",
       "      <td>0</td>\n",
       "      <td>0</td>\n",
       "    </tr>\n",
       "    <tr>\n",
       "      <th>1</th>\n",
       "      <td>0</td>\n",
       "      <td>0</td>\n",
       "      <td>0</td>\n",
       "      <td>14720</td>\n",
       "      <td>33</td>\n",
       "      <td>-70</td>\n",
       "      <td>-79</td>\n",
       "      <td>0</td>\n",
       "      <td>1</td>\n",
       "      <td>0</td>\n",
       "      <td>1</td>\n",
       "      <td>0</td>\n",
       "      <td>0</td>\n",
       "      <td>0</td>\n",
       "      <td>0</td>\n",
       "      <td>0</td>\n",
       "      <td>2000</td>\n",
       "      <td>2000</td>\n",
       "      <td>0</td>\n",
       "    </tr>\n",
       "    <tr>\n",
       "      <th>2</th>\n",
       "      <td>0</td>\n",
       "      <td>0</td>\n",
       "      <td>0</td>\n",
       "      <td>8050</td>\n",
       "      <td>30</td>\n",
       "      <td>-81</td>\n",
       "      <td>-78</td>\n",
       "      <td>0</td>\n",
       "      <td>0</td>\n",
       "      <td>0</td>\n",
       "      <td>0</td>\n",
       "      <td>0</td>\n",
       "      <td>0</td>\n",
       "      <td>0</td>\n",
       "      <td>0</td>\n",
       "      <td>0</td>\n",
       "      <td>0</td>\n",
       "      <td>0</td>\n",
       "      <td>0</td>\n",
       "    </tr>\n",
       "    <tr>\n",
       "      <th>3</th>\n",
       "      <td>0</td>\n",
       "      <td>0</td>\n",
       "      <td>0</td>\n",
       "      <td>28820</td>\n",
       "      <td>171</td>\n",
       "      <td>-23</td>\n",
       "      <td>40</td>\n",
       "      <td>0</td>\n",
       "      <td>1</td>\n",
       "      <td>0</td>\n",
       "      <td>1</td>\n",
       "      <td>0</td>\n",
       "      <td>0</td>\n",
       "      <td>0</td>\n",
       "      <td>0</td>\n",
       "      <td>0</td>\n",
       "      <td>3000</td>\n",
       "      <td>3000</td>\n",
       "      <td>0</td>\n",
       "    </tr>\n",
       "    <tr>\n",
       "      <th>4</th>\n",
       "      <td>0</td>\n",
       "      <td>0</td>\n",
       "      <td>0</td>\n",
       "      <td>12640</td>\n",
       "      <td>57</td>\n",
       "      <td>-63</td>\n",
       "      <td>-52</td>\n",
       "      <td>0</td>\n",
       "      <td>0</td>\n",
       "      <td>0</td>\n",
       "      <td>0</td>\n",
       "      <td>0</td>\n",
       "      <td>0</td>\n",
       "      <td>0</td>\n",
       "      <td>0</td>\n",
       "      <td>0</td>\n",
       "      <td>0</td>\n",
       "      <td>0</td>\n",
       "      <td>0</td>\n",
       "    </tr>\n",
       "  </tbody>\n",
       "</table>\n",
       "</div>"
      ],
      "text/plain": [
       "   seismic  seismoacoustic  shift  genergy  gpuls  gdenergy  gdpuls  hazard  \\\n",
       "0        0               0      0    15180     48       -72     -72       0   \n",
       "1        0               0      0    14720     33       -70     -79       0   \n",
       "2        0               0      0     8050     30       -81     -78       0   \n",
       "3        0               0      0    28820    171       -23      40       0   \n",
       "4        0               0      0    12640     57       -63     -52       0   \n",
       "\n",
       "   nbumps  nbumps2  nbumps3  nbumps4  nbumps5  nbumps6  nbumps7  nbumps89  \\\n",
       "0       0        0        0        0        0        0        0         0   \n",
       "1       1        0        1        0        0        0        0         0   \n",
       "2       0        0        0        0        0        0        0         0   \n",
       "3       1        0        1        0        0        0        0         0   \n",
       "4       0        0        0        0        0        0        0         0   \n",
       "\n",
       "   energy  maxenergy  class  \n",
       "0       0          0      0  \n",
       "1    2000       2000      0  \n",
       "2       0          0      0  \n",
       "3    3000       3000      0  \n",
       "4       0          0      0  "
      ]
     },
     "execution_count": 14,
     "metadata": {},
     "output_type": "execute_result"
    }
   ],
   "source": [
    "data.head()"
   ]
  },
  {
   "cell_type": "code",
   "execution_count": 15,
   "id": "2d97fa5f",
   "metadata": {},
   "outputs": [],
   "source": [
    "import pandas as pd\n",
    "\n",
    "from sklearn.ensemble import RandomForestClassifier\n",
    "from sklearn.metrics import roc_auc_score\n",
    "from sklearn.model_selection import train_test_split\n",
    "from sklearn.preprocessing import MinMaxScaler\n",
    "\n",
    "# to correctly set up the cross-validation\n",
    "from imblearn.pipeline import make_pipeline\n",
    "from imblearn.under_sampling import NeighbourhoodCleaningRule\n",
    "from imblearn.over_sampling import ADASYN"
   ]
  },
  {
   "cell_type": "code",
   "execution_count": 16,
   "id": "5fcc5ac6",
   "metadata": {},
   "outputs": [
    {
     "data": {
      "text/html": [
       "<div>\n",
       "<style scoped>\n",
       "    .dataframe tbody tr th:only-of-type {\n",
       "        vertical-align: middle;\n",
       "    }\n",
       "\n",
       "    .dataframe tbody tr th {\n",
       "        vertical-align: top;\n",
       "    }\n",
       "\n",
       "    .dataframe thead th {\n",
       "        text-align: right;\n",
       "    }\n",
       "</style>\n",
       "<table border=\"1\" class=\"dataframe\">\n",
       "  <thead>\n",
       "    <tr style=\"text-align: right;\">\n",
       "      <th></th>\n",
       "      <th>Time</th>\n",
       "      <th>V1</th>\n",
       "      <th>V2</th>\n",
       "      <th>V3</th>\n",
       "      <th>V4</th>\n",
       "      <th>V5</th>\n",
       "      <th>V6</th>\n",
       "      <th>V7</th>\n",
       "      <th>V8</th>\n",
       "      <th>V9</th>\n",
       "      <th>...</th>\n",
       "      <th>V21</th>\n",
       "      <th>V22</th>\n",
       "      <th>V23</th>\n",
       "      <th>V24</th>\n",
       "      <th>V25</th>\n",
       "      <th>V26</th>\n",
       "      <th>V27</th>\n",
       "      <th>V28</th>\n",
       "      <th>Amount</th>\n",
       "      <th>Class</th>\n",
       "    </tr>\n",
       "  </thead>\n",
       "  <tbody>\n",
       "    <tr>\n",
       "      <th>183484</th>\n",
       "      <td>125821.0</td>\n",
       "      <td>-0.323334</td>\n",
       "      <td>1.057455</td>\n",
       "      <td>-0.048341</td>\n",
       "      <td>-0.607204</td>\n",
       "      <td>1.259821</td>\n",
       "      <td>-0.091761</td>\n",
       "      <td>1.159101</td>\n",
       "      <td>-0.124335</td>\n",
       "      <td>-0.174640</td>\n",
       "      <td>...</td>\n",
       "      <td>-0.207098</td>\n",
       "      <td>-0.433890</td>\n",
       "      <td>-0.261613</td>\n",
       "      <td>-0.046651</td>\n",
       "      <td>0.211512</td>\n",
       "      <td>0.008297</td>\n",
       "      <td>0.108494</td>\n",
       "      <td>0.161139</td>\n",
       "      <td>40.00</td>\n",
       "      <td>0</td>\n",
       "    </tr>\n",
       "    <tr>\n",
       "      <th>255448</th>\n",
       "      <td>157235.0</td>\n",
       "      <td>-0.349718</td>\n",
       "      <td>0.932619</td>\n",
       "      <td>0.142992</td>\n",
       "      <td>-0.657071</td>\n",
       "      <td>1.169784</td>\n",
       "      <td>-0.733369</td>\n",
       "      <td>1.009985</td>\n",
       "      <td>-0.071069</td>\n",
       "      <td>-0.302083</td>\n",
       "      <td>...</td>\n",
       "      <td>-0.271537</td>\n",
       "      <td>-0.833209</td>\n",
       "      <td>-0.030360</td>\n",
       "      <td>0.490035</td>\n",
       "      <td>-0.404816</td>\n",
       "      <td>0.134350</td>\n",
       "      <td>0.076830</td>\n",
       "      <td>0.175562</td>\n",
       "      <td>1.98</td>\n",
       "      <td>0</td>\n",
       "    </tr>\n",
       "    <tr>\n",
       "      <th>244749</th>\n",
       "      <td>152471.0</td>\n",
       "      <td>-1.614711</td>\n",
       "      <td>-2.406570</td>\n",
       "      <td>0.326194</td>\n",
       "      <td>0.665520</td>\n",
       "      <td>2.369268</td>\n",
       "      <td>-1.775367</td>\n",
       "      <td>-1.139049</td>\n",
       "      <td>0.329904</td>\n",
       "      <td>0.903813</td>\n",
       "      <td>...</td>\n",
       "      <td>0.701399</td>\n",
       "      <td>1.134489</td>\n",
       "      <td>0.965054</td>\n",
       "      <td>0.640981</td>\n",
       "      <td>-1.801998</td>\n",
       "      <td>-1.041114</td>\n",
       "      <td>0.286285</td>\n",
       "      <td>0.437322</td>\n",
       "      <td>96.00</td>\n",
       "      <td>0</td>\n",
       "    </tr>\n",
       "    <tr>\n",
       "      <th>63919</th>\n",
       "      <td>50927.0</td>\n",
       "      <td>-2.477184</td>\n",
       "      <td>0.860613</td>\n",
       "      <td>1.441850</td>\n",
       "      <td>1.051019</td>\n",
       "      <td>-1.856621</td>\n",
       "      <td>2.078384</td>\n",
       "      <td>0.510828</td>\n",
       "      <td>-0.243399</td>\n",
       "      <td>-0.260691</td>\n",
       "      <td>...</td>\n",
       "      <td>0.810408</td>\n",
       "      <td>0.692245</td>\n",
       "      <td>0.150121</td>\n",
       "      <td>-0.260777</td>\n",
       "      <td>0.005183</td>\n",
       "      <td>-0.177847</td>\n",
       "      <td>-0.510060</td>\n",
       "      <td>-0.660533</td>\n",
       "      <td>308.00</td>\n",
       "      <td>0</td>\n",
       "    </tr>\n",
       "    <tr>\n",
       "      <th>11475</th>\n",
       "      <td>19899.0</td>\n",
       "      <td>1.338831</td>\n",
       "      <td>-0.547264</td>\n",
       "      <td>0.737389</td>\n",
       "      <td>-0.212383</td>\n",
       "      <td>-1.110039</td>\n",
       "      <td>-0.525744</td>\n",
       "      <td>-0.801403</td>\n",
       "      <td>-0.063672</td>\n",
       "      <td>0.997276</td>\n",
       "      <td>...</td>\n",
       "      <td>-0.139436</td>\n",
       "      <td>-0.074719</td>\n",
       "      <td>0.067055</td>\n",
       "      <td>0.333122</td>\n",
       "      <td>0.379087</td>\n",
       "      <td>-0.268706</td>\n",
       "      <td>-0.002769</td>\n",
       "      <td>0.003272</td>\n",
       "      <td>5.00</td>\n",
       "      <td>0</td>\n",
       "    </tr>\n",
       "  </tbody>\n",
       "</table>\n",
       "<p>5 rows × 31 columns</p>\n",
       "</div>"
      ],
      "text/plain": [
       "            Time        V1        V2        V3        V4        V5        V6  \\\n",
       "183484  125821.0 -0.323334  1.057455 -0.048341 -0.607204  1.259821 -0.091761   \n",
       "255448  157235.0 -0.349718  0.932619  0.142992 -0.657071  1.169784 -0.733369   \n",
       "244749  152471.0 -1.614711 -2.406570  0.326194  0.665520  2.369268 -1.775367   \n",
       "63919    50927.0 -2.477184  0.860613  1.441850  1.051019 -1.856621  2.078384   \n",
       "11475    19899.0  1.338831 -0.547264  0.737389 -0.212383 -1.110039 -0.525744   \n",
       "\n",
       "              V7        V8        V9  ...       V21       V22       V23  \\\n",
       "183484  1.159101 -0.124335 -0.174640  ... -0.207098 -0.433890 -0.261613   \n",
       "255448  1.009985 -0.071069 -0.302083  ... -0.271537 -0.833209 -0.030360   \n",
       "244749 -1.139049  0.329904  0.903813  ...  0.701399  1.134489  0.965054   \n",
       "63919   0.510828 -0.243399 -0.260691  ...  0.810408  0.692245  0.150121   \n",
       "11475  -0.801403 -0.063672  0.997276  ... -0.139436 -0.074719  0.067055   \n",
       "\n",
       "             V24       V25       V26       V27       V28  Amount  Class  \n",
       "183484 -0.046651  0.211512  0.008297  0.108494  0.161139   40.00      0  \n",
       "255448  0.490035 -0.404816  0.134350  0.076830  0.175562    1.98      0  \n",
       "244749  0.640981 -1.801998 -1.041114  0.286285  0.437322   96.00      0  \n",
       "63919  -0.260777  0.005183 -0.177847 -0.510060 -0.660533  308.00      0  \n",
       "11475   0.333122  0.379087 -0.268706 -0.002769  0.003272    5.00      0  \n",
       "\n",
       "[5 rows x 31 columns]"
      ]
     },
     "execution_count": 16,
     "metadata": {},
     "output_type": "execute_result"
    }
   ],
   "source": [
    "# load data (just some cells to speed up the computations)\n",
    "# we will be using KNN in our cleaning procedure so with the whole \n",
    "# dataset in my laptop it takes quite a while...\n",
    "\n",
    "# you see already some of the limitations of these techniques ;)\n",
    "\n",
    "\n",
    "data = pd.read_csv(\"creditcard.csv\").sample(50000, random_state=0)\n",
    "\n",
    "data.head()"
   ]
  },
  {
   "cell_type": "code",
   "execution_count": 17,
   "id": "a803f883",
   "metadata": {},
   "outputs": [
    {
     "data": {
      "text/plain": [
       "((35000, 30), (15000, 30))"
      ]
     },
     "execution_count": 17,
     "metadata": {},
     "output_type": "execute_result"
    }
   ],
   "source": [
    "# separate dataset into train and test\n",
    "\n",
    "X_train, X_test, y_train, y_test = train_test_split(\n",
    "    data.drop('Class', axis=1) , \n",
    "    data['Class'], # just the target\n",
    "    test_size=0.3,\n",
    "    random_state=0)\n",
    "\n",
    "X_train.shape, X_test.shape"
   ]
  },
  {
   "cell_type": "code",
   "execution_count": 18,
   "id": "98b27c2d",
   "metadata": {},
   "outputs": [],
   "source": [
    "# adasyn\n",
    "\n",
    "adasyn = ADASYN(\n",
    "        sampling_strategy='auto',  # samples only the minority class\n",
    "        random_state=0,  # for reproducibility\n",
    "        n_neighbors=5,\n",
    "        n_jobs=4,\n",
    ")"
   ]
  },
  {
   "cell_type": "code",
   "execution_count": 19,
   "id": "54911ff8",
   "metadata": {},
   "outputs": [],
   "source": [
    "###################\n",
    "## IMPORTANT  \n",
    "##################=\n",
    "\n",
    "# The sampling strategy needs to be set to all, or with\n",
    "# a specific dictionary, because after ADASYN, our\n",
    "# previous minority class is no longer minority!!\n",
    "\n",
    "ncr = NeighbourhoodCleaningRule(\n",
    "    sampling_strategy='all',# undersamples all classes\n",
    "    n_neighbors=3, \n",
    "    kind_sel='mode', \n",
    "    threshold_cleaning=0.1, # the threshold to evaluate a class for cleaning (used only for clearning step)\n",
    ") "
   ]
  },
  {
   "cell_type": "code",
   "execution_count": 20,
   "id": "9e83afac",
   "metadata": {},
   "outputs": [],
   "source": [
    "model = make_pipeline(\n",
    "    MinMaxScaler(),\n",
    "    adasyn,\n",
    "    ncr, \n",
    "    RandomForestClassifier(\n",
    "            n_estimators=100, random_state=39, max_depth=3, n_jobs=4\n",
    "        ),\n",
    ")"
   ]
  },
  {
   "cell_type": "code",
   "execution_count": 21,
   "id": "84a68e2f",
   "metadata": {},
   "outputs": [
    {
     "name": "stderr",
     "output_type": "stream",
     "text": [
      "C:\\Users\\Vamshi\\AppData\\Local\\Programs\\Python\\Python310\\lib\\site-packages\\imblearn\\under_sampling\\_prototype_selection\\_edited_nearest_neighbours.py:158: FutureWarning: Unlike other reduction functions (e.g. `skew`, `kurtosis`), the default behavior of `mode` typically preserves the axis it acts along. In SciPy 1.11.0, this behavior will change: the default value of `keepdims` will become False, the `axis` over which the statistic is taken will be eliminated, and the value None will no longer be accepted. Set `keepdims` to True or False to avoid this warning.\n",
      "  nnhood_label, _ = mode(nnhood_label, axis=1)\n",
      "C:\\Users\\Vamshi\\AppData\\Local\\Programs\\Python\\Python310\\lib\\site-packages\\imblearn\\under_sampling\\_prototype_selection\\_edited_nearest_neighbours.py:158: FutureWarning: Unlike other reduction functions (e.g. `skew`, `kurtosis`), the default behavior of `mode` typically preserves the axis it acts along. In SciPy 1.11.0, this behavior will change: the default value of `keepdims` will become False, the `axis` over which the statistic is taken will be eliminated, and the value None will no longer be accepted. Set `keepdims` to True or False to avoid this warning.\n",
      "  nnhood_label, _ = mode(nnhood_label, axis=1)\n",
      "C:\\Users\\Vamshi\\AppData\\Local\\Programs\\Python\\Python310\\lib\\site-packages\\imblearn\\under_sampling\\_prototype_selection\\_neighbourhood_cleaning_rule.py:185: FutureWarning: Unlike other reduction functions (e.g. `skew`, `kurtosis`), the default behavior of `mode` typically preserves the axis it acts along. In SciPy 1.11.0, this behavior will change: the default value of `keepdims` will become False, the `axis` over which the statistic is taken will be eliminated, and the value None will no longer be accepted. Set `keepdims` to True or False to avoid this warning.\n",
      "  nnhood_label_majority, _ = mode(nnhood_label, axis=1)\n"
     ]
    },
    {
     "data": {
      "text/html": [
       "<style>#sk-container-id-1 {color: black;background-color: white;}#sk-container-id-1 pre{padding: 0;}#sk-container-id-1 div.sk-toggleable {background-color: white;}#sk-container-id-1 label.sk-toggleable__label {cursor: pointer;display: block;width: 100%;margin-bottom: 0;padding: 0.3em;box-sizing: border-box;text-align: center;}#sk-container-id-1 label.sk-toggleable__label-arrow:before {content: \"▸\";float: left;margin-right: 0.25em;color: #696969;}#sk-container-id-1 label.sk-toggleable__label-arrow:hover:before {color: black;}#sk-container-id-1 div.sk-estimator:hover label.sk-toggleable__label-arrow:before {color: black;}#sk-container-id-1 div.sk-toggleable__content {max-height: 0;max-width: 0;overflow: hidden;text-align: left;background-color: #f0f8ff;}#sk-container-id-1 div.sk-toggleable__content pre {margin: 0.2em;color: black;border-radius: 0.25em;background-color: #f0f8ff;}#sk-container-id-1 input.sk-toggleable__control:checked~div.sk-toggleable__content {max-height: 200px;max-width: 100%;overflow: auto;}#sk-container-id-1 input.sk-toggleable__control:checked~label.sk-toggleable__label-arrow:before {content: \"▾\";}#sk-container-id-1 div.sk-estimator input.sk-toggleable__control:checked~label.sk-toggleable__label {background-color: #d4ebff;}#sk-container-id-1 div.sk-label input.sk-toggleable__control:checked~label.sk-toggleable__label {background-color: #d4ebff;}#sk-container-id-1 input.sk-hidden--visually {border: 0;clip: rect(1px 1px 1px 1px);clip: rect(1px, 1px, 1px, 1px);height: 1px;margin: -1px;overflow: hidden;padding: 0;position: absolute;width: 1px;}#sk-container-id-1 div.sk-estimator {font-family: monospace;background-color: #f0f8ff;border: 1px dotted black;border-radius: 0.25em;box-sizing: border-box;margin-bottom: 0.5em;}#sk-container-id-1 div.sk-estimator:hover {background-color: #d4ebff;}#sk-container-id-1 div.sk-parallel-item::after {content: \"\";width: 100%;border-bottom: 1px solid gray;flex-grow: 1;}#sk-container-id-1 div.sk-label:hover label.sk-toggleable__label {background-color: #d4ebff;}#sk-container-id-1 div.sk-serial::before {content: \"\";position: absolute;border-left: 1px solid gray;box-sizing: border-box;top: 0;bottom: 0;left: 50%;z-index: 0;}#sk-container-id-1 div.sk-serial {display: flex;flex-direction: column;align-items: center;background-color: white;padding-right: 0.2em;padding-left: 0.2em;position: relative;}#sk-container-id-1 div.sk-item {position: relative;z-index: 1;}#sk-container-id-1 div.sk-parallel {display: flex;align-items: stretch;justify-content: center;background-color: white;position: relative;}#sk-container-id-1 div.sk-item::before, #sk-container-id-1 div.sk-parallel-item::before {content: \"\";position: absolute;border-left: 1px solid gray;box-sizing: border-box;top: 0;bottom: 0;left: 50%;z-index: -1;}#sk-container-id-1 div.sk-parallel-item {display: flex;flex-direction: column;z-index: 1;position: relative;background-color: white;}#sk-container-id-1 div.sk-parallel-item:first-child::after {align-self: flex-end;width: 50%;}#sk-container-id-1 div.sk-parallel-item:last-child::after {align-self: flex-start;width: 50%;}#sk-container-id-1 div.sk-parallel-item:only-child::after {width: 0;}#sk-container-id-1 div.sk-dashed-wrapped {border: 1px dashed gray;margin: 0 0.4em 0.5em 0.4em;box-sizing: border-box;padding-bottom: 0.4em;background-color: white;}#sk-container-id-1 div.sk-label label {font-family: monospace;font-weight: bold;display: inline-block;line-height: 1.2em;}#sk-container-id-1 div.sk-label-container {text-align: center;}#sk-container-id-1 div.sk-container {/* jupyter's `normalize.less` sets `[hidden] { display: none; }` but bootstrap.min.css set `[hidden] { display: none !important; }` so we also need the `!important` here to be able to override the default hidden behavior on the sphinx rendered scikit-learn.org. See: https://github.com/scikit-learn/scikit-learn/issues/21755 */display: inline-block !important;position: relative;}#sk-container-id-1 div.sk-text-repr-fallback {display: none;}</style><div id=\"sk-container-id-1\" class=\"sk-top-container\"><div class=\"sk-text-repr-fallback\"><pre>Pipeline(steps=[(&#x27;minmaxscaler&#x27;, MinMaxScaler()),\n",
       "                (&#x27;adasyn&#x27;, ADASYN(n_jobs=4, random_state=0)),\n",
       "                (&#x27;neighbourhoodcleaningrule&#x27;,\n",
       "                 NeighbourhoodCleaningRule(kind_sel=&#x27;mode&#x27;,\n",
       "                                           sampling_strategy=&#x27;all&#x27;,\n",
       "                                           threshold_cleaning=0.1)),\n",
       "                (&#x27;randomforestclassifier&#x27;,\n",
       "                 RandomForestClassifier(max_depth=3, n_jobs=4,\n",
       "                                        random_state=39))])</pre><b>In a Jupyter environment, please rerun this cell to show the HTML representation or trust the notebook. <br />On GitHub, the HTML representation is unable to render, please try loading this page with nbviewer.org.</b></div><div class=\"sk-container\" hidden><div class=\"sk-item sk-dashed-wrapped\"><div class=\"sk-label-container\"><div class=\"sk-label sk-toggleable\"><input class=\"sk-toggleable__control sk-hidden--visually\" id=\"sk-estimator-id-1\" type=\"checkbox\" ><label for=\"sk-estimator-id-1\" class=\"sk-toggleable__label sk-toggleable__label-arrow\">Pipeline</label><div class=\"sk-toggleable__content\"><pre>Pipeline(steps=[(&#x27;minmaxscaler&#x27;, MinMaxScaler()),\n",
       "                (&#x27;adasyn&#x27;, ADASYN(n_jobs=4, random_state=0)),\n",
       "                (&#x27;neighbourhoodcleaningrule&#x27;,\n",
       "                 NeighbourhoodCleaningRule(kind_sel=&#x27;mode&#x27;,\n",
       "                                           sampling_strategy=&#x27;all&#x27;,\n",
       "                                           threshold_cleaning=0.1)),\n",
       "                (&#x27;randomforestclassifier&#x27;,\n",
       "                 RandomForestClassifier(max_depth=3, n_jobs=4,\n",
       "                                        random_state=39))])</pre></div></div></div><div class=\"sk-serial\"><div class=\"sk-item\"><div class=\"sk-estimator sk-toggleable\"><input class=\"sk-toggleable__control sk-hidden--visually\" id=\"sk-estimator-id-2\" type=\"checkbox\" ><label for=\"sk-estimator-id-2\" class=\"sk-toggleable__label sk-toggleable__label-arrow\">MinMaxScaler</label><div class=\"sk-toggleable__content\"><pre>MinMaxScaler()</pre></div></div></div><div class=\"sk-item\"><div class=\"sk-estimator sk-toggleable\"><input class=\"sk-toggleable__control sk-hidden--visually\" id=\"sk-estimator-id-3\" type=\"checkbox\" ><label for=\"sk-estimator-id-3\" class=\"sk-toggleable__label sk-toggleable__label-arrow\">ADASYN</label><div class=\"sk-toggleable__content\"><pre>ADASYN(n_jobs=4, random_state=0)</pre></div></div></div><div class=\"sk-item\"><div class=\"sk-estimator sk-toggleable\"><input class=\"sk-toggleable__control sk-hidden--visually\" id=\"sk-estimator-id-4\" type=\"checkbox\" ><label for=\"sk-estimator-id-4\" class=\"sk-toggleable__label sk-toggleable__label-arrow\">NeighbourhoodCleaningRule</label><div class=\"sk-toggleable__content\"><pre>NeighbourhoodCleaningRule(kind_sel=&#x27;mode&#x27;, sampling_strategy=&#x27;all&#x27;,\n",
       "                          threshold_cleaning=0.1)</pre></div></div></div><div class=\"sk-item\"><div class=\"sk-estimator sk-toggleable\"><input class=\"sk-toggleable__control sk-hidden--visually\" id=\"sk-estimator-id-5\" type=\"checkbox\" ><label for=\"sk-estimator-id-5\" class=\"sk-toggleable__label sk-toggleable__label-arrow\">RandomForestClassifier</label><div class=\"sk-toggleable__content\"><pre>RandomForestClassifier(max_depth=3, n_jobs=4, random_state=39)</pre></div></div></div></div></div></div></div>"
      ],
      "text/plain": [
       "Pipeline(steps=[('minmaxscaler', MinMaxScaler()),\n",
       "                ('adasyn', ADASYN(n_jobs=4, random_state=0)),\n",
       "                ('neighbourhoodcleaningrule',\n",
       "                 NeighbourhoodCleaningRule(kind_sel='mode',\n",
       "                                           sampling_strategy='all',\n",
       "                                           threshold_cleaning=0.1)),\n",
       "                ('randomforestclassifier',\n",
       "                 RandomForestClassifier(max_depth=3, n_jobs=4,\n",
       "                                        random_state=39))])"
      ]
     },
     "execution_count": 21,
     "metadata": {},
     "output_type": "execute_result"
    }
   ],
   "source": [
    "model.fit(X_train, y_train)"
   ]
  },
  {
   "cell_type": "code",
   "execution_count": 22,
   "id": "47bea43c",
   "metadata": {},
   "outputs": [],
   "source": [
    "pred_train = model.predict_proba(X_train)[:,1]\n",
    "pred_test = model.predict_proba(X_test)[:,1]"
   ]
  },
  {
   "cell_type": "code",
   "execution_count": 23,
   "id": "576abf87",
   "metadata": {},
   "outputs": [
    {
     "name": "stdout",
     "output_type": "stream",
     "text": [
      "Train roc-auc: 0.9981872590065869\n"
     ]
    }
   ],
   "source": [
    "print('Train roc-auc: {}'.format(roc_auc_score(y_train, pred_train)))\n"
   ]
  },
  {
   "cell_type": "code",
   "execution_count": 24,
   "id": "b855fb2d",
   "metadata": {},
   "outputs": [
    {
     "name": "stdout",
     "output_type": "stream",
     "text": [
      "Test roc-auc: 0.9914903697224804\n"
     ]
    }
   ],
   "source": [
    "print('Test roc-auc: {}'.format(roc_auc_score(y_test, pred_test)))"
   ]
  },
  {
   "cell_type": "code",
   "execution_count": null,
   "id": "7bd25a34",
   "metadata": {},
   "outputs": [],
   "source": []
  }
 ],
 "metadata": {
  "kernelspec": {
   "display_name": "Python 3 (ipykernel)",
   "language": "python",
   "name": "python3"
  },
  "language_info": {
   "codemirror_mode": {
    "name": "ipython",
    "version": 3
   },
   "file_extension": ".py",
   "mimetype": "text/x-python",
   "name": "python",
   "nbconvert_exporter": "python",
   "pygments_lexer": "ipython3",
   "version": "3.10.8"
  }
 },
 "nbformat": 4,
 "nbformat_minor": 5
}
